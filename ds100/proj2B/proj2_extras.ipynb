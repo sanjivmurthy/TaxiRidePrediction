{
 "cells": [
  {
   "cell_type": "markdown",
   "metadata": {},
   "source": [
    "Before you turn in the homework, make sure everything runs as expected. To do so, select **Kernel**$\\rightarrow$**Restart & Run All** in the toolbar above.  Remember to submit both on **DataHub** and **Gradescope**.\n",
    "\n",
    "Please fill in your name and include a list of your collaborators below."
   ]
  },
  {
   "cell_type": "code",
   "execution_count": 1,
   "metadata": {},
   "outputs": [],
   "source": [
    "NAME = \"Sanjiv Murthy\"\n",
    "COLLABORATORS = \"\""
   ]
  },
  {
   "cell_type": "code",
   "execution_count": 2,
   "metadata": {},
   "outputs": [],
   "source": [
    "import os\n",
    "import pandas as pd\n",
    "import numpy as np\n",
    "import sklearn.linear_model as lm\n",
    "import matplotlib.pyplot as plt\n",
    "import seaborn as sns\n",
    "from pathlib import Path\n",
    "from sqlalchemy import create_engine\n",
    "import zipfile\n",
    "from sklearn.model_selection import cross_val_score, train_test_split, GridSearchCV\n",
    "from utils import timeit\n",
    "\n",
    "sns.set(style=\"whitegrid\", palette=\"muted\")\n",
    "\n",
    "plt.rcParams['figure.figsize'] = (12, 9)\n",
    "plt.rcParams['font.size'] = 12\n",
    "\n",
    "%matplotlib inline"
   ]
  },
  {
   "cell_type": "code",
   "execution_count": 3,
   "metadata": {},
   "outputs": [
    {
     "name": "stdout",
     "output_type": "stream",
     "text": [
      "-rw-r--r-- 1 root root 2.1G Nov  7 04:43 /srv/db/taxi_2016_student_small.sqlite\n",
      "Table taxi has 15000000 rows!\n",
      "1.05 s elapsed\n"
     ]
    }
   ],
   "source": [
    "# Loading Part 1\n",
    "\n",
    "!ls -lh /srv/db/taxi_2016_student_small.sqlite\n",
    "\n",
    "DB_URI = \"sqlite:////srv/db/taxi_2016_student_small.sqlite\"\n",
    "TABLE_NAME = \"taxi\"\n",
    "\n",
    "sql_engine = create_engine(DB_URI)\n",
    "with timeit():\n",
    "    print(f\"Table {TABLE_NAME} has {sql_engine.execute(f'SELECT COUNT(*) FROM {TABLE_NAME}').first()[0]} rows!\")\n",
    "    "
   ]
  },
  {
   "cell_type": "code",
   "execution_count": 4,
   "metadata": {},
   "outputs": [
    {
     "name": "stdout",
     "output_type": "stream",
     "text": [
      "2.89 s elapsed\n"
     ]
    }
   ],
   "source": [
    "# Using month of April as training set \n",
    "\n",
    "q1d_query = f\"\"\"\n",
    "            SELECT * \n",
    "            FROM taxi\n",
    "            WHERE tpep_pickup_datetime\n",
    "                BETWEEN '2016-04-01' AND '2016-05-01'\n",
    "                AND record_id % 100 == 0\n",
    "            ORDER BY tpep_pickup_datetime\n",
    "            \"\"\"\n",
    "\n",
    "# YOUR CODE HERE\n",
    "# raise NotImplementedError()\n",
    "with timeit(): # This query should take less than 3 second\n",
    "    apr_16 = pd.read_sql_query(q1d_query, sql_engine)\n",
    "apr_16['tpep_dropoff_datetime'] = pd.to_datetime(apr_16[\"tpep_dropoff_datetime\"])\n",
    "apr_16['tpep_pickup_datetime'] = pd.to_datetime(apr_16[\"tpep_pickup_datetime\"])"
   ]
  },
  {
   "cell_type": "code",
   "execution_count": 5,
   "metadata": {},
   "outputs": [],
   "source": [
    "## Cleaning\n",
    "cleaned_apr_16 = apr_16.copy()\n",
    "\n",
    "# limiting rides < 0.5 day\n",
    "\n",
    "cleaned_apr_16['duration'] = cleaned_apr_16[\"tpep_dropoff_datetime\"]-cleaned_apr_16[\"tpep_pickup_datetime\"]\n",
    "cleaned_apr_16['duration'] = cleaned_apr_16['duration'].dt.total_seconds()\n",
    "cleaned_apr_16 = cleaned_apr_16[cleaned_apr_16['duration'] < 12 * 3600]\n",
    "\n",
    "# limiting to rides in NYC\n",
    "\n",
    "cleaned_apr_16 = cleaned_apr_16[cleaned_apr_16['pickup_longitude'] <= -73.75]\n",
    "cleaned_apr_16 = cleaned_apr_16[cleaned_apr_16['pickup_longitude'] >= -74.03]\n",
    "cleaned_apr_16 = cleaned_apr_16[cleaned_apr_16['pickup_latitude'] <= 40.85]\n",
    "cleaned_apr_16 = cleaned_apr_16[cleaned_apr_16['pickup_latitude'] >= 40.63]\n",
    "cleaned_apr_16 = cleaned_apr_16[cleaned_apr_16['dropoff_longitude'] <= -73.75]\n",
    "cleaned_apr_16 = cleaned_apr_16[cleaned_apr_16['dropoff_longitude'] >= -74.03]\n",
    "cleaned_apr_16 = cleaned_apr_16[cleaned_apr_16['dropoff_latitude'] <= 40.85]\n",
    "cleaned_apr_16 = cleaned_apr_16[cleaned_apr_16['dropoff_latitude'] >= 40.63]\n",
    "\n",
    "# limiting to rides with > 0 passengers\n",
    "\n",
    "cleaned_apr_16 = cleaned_apr_16[cleaned_apr_16['passenger_count'] > 0]\n"
   ]
  },
  {
   "cell_type": "code",
   "execution_count": 6,
   "metadata": {
    "scrolled": true
   },
   "outputs": [
    {
     "name": "stderr",
     "output_type": "stream",
     "text": [
      "/srv/conda/envs/data100/lib/python3.6/site-packages/pandas/core/generic.py:4388: FutureWarning: Attribute 'is_copy' is deprecated and will be removed in a future version.\n",
      "  object.__getattribute__(self, name)\n",
      "/srv/conda/envs/data100/lib/python3.6/site-packages/pandas/core/generic.py:4389: FutureWarning: Attribute 'is_copy' is deprecated and will be removed in a future version.\n",
      "  return object.__setattr__(self, name, value)\n"
     ]
    }
   ],
   "source": [
    "## Adding Temporal Features\n",
    "\n",
    "def add_time_columns(df):\n",
    "    \"\"\"\n",
    "    Add temporal features to df\n",
    "    \"\"\"\n",
    "    df.is_copy = False \n",
    "    df.loc[:, 'month'] = df['tpep_pickup_datetime'].dt.month\n",
    "    df.loc[:, 'week_of_year'] = df['tpep_pickup_datetime'].dt.weekofyear\n",
    "    df.loc[:, 'day_of_month'] = df['tpep_pickup_datetime'].dt.day\n",
    "    df.loc[:, 'day_of_week'] = df['tpep_pickup_datetime'].dt.dayofweek\n",
    "    df.loc[:, 'hour'] = df['tpep_pickup_datetime'].dt.hour\n",
    "    df.loc[:, 'week_hour'] = df['tpep_pickup_datetime'].dt.weekday * 24 + df['hour']\n",
    " \n",
    "    # No real need to return here, but we harmonize with remove_outliers for later pipelinezation\n",
    "    return df\n",
    "\n",
    "short_rides = cleaned_apr_16[cleaned_apr_16[\"duration\"] <= 900] # rides less than or equal to 15 mins\n",
    "long_rides = cleaned_apr_16[cleaned_apr_16[\"duration\"] > 900] # rides more than 15 minutes\n",
    "\n",
    "cleaned_apr_16 = add_time_columns(cleaned_apr_16)\n",
    "short_rides = add_time_columns(short_rides)\n",
    "long_rides = add_time_columns(long_rides)\n"
   ]
  },
  {
   "cell_type": "code",
   "execution_count": 7,
   "metadata": {},
   "outputs": [
    {
     "name": "stderr",
     "output_type": "stream",
     "text": [
      "/srv/conda/envs/data100/lib/python3.6/site-packages/pandas/core/generic.py:4388: FutureWarning: Attribute 'is_copy' is deprecated and will be removed in a future version.\n",
      "  object.__getattribute__(self, name)\n",
      "/srv/conda/envs/data100/lib/python3.6/site-packages/pandas/core/generic.py:4389: FutureWarning: Attribute 'is_copy' is deprecated and will be removed in a future version.\n",
      "  return object.__setattr__(self, name, value)\n"
     ]
    }
   ],
   "source": [
    "## Adding distance features\n",
    "\n",
    "# These functions are implemented for you\n",
    "\n",
    "# Copied from part 2\n",
    "def haversine(lat1, lng1, lat2, lng2):\n",
    "    \"\"\"\n",
    "    Compute haversine distance\n",
    "    \"\"\"\n",
    "    lat1, lng1, lat2, lng2 = map(np.radians, (lat1, lng1, lat2, lng2))\n",
    "    average_earth_radius = 6371\n",
    "    lat = lat2 - lat1\n",
    "    lng = lng2 - lng1\n",
    "    d = np.sin(lat * 0.5) ** 2 + np.cos(lat1) * np.cos(lat2) * np.sin(lng * 0.5) ** 2\n",
    "    h = 2 * average_earth_radius * np.arcsin(np.sqrt(d))\n",
    "    return h\n",
    "\n",
    "# Copied from part 2\n",
    "def manhattan_distance(lat1, lng1, lat2, lng2):\n",
    "    \"\"\"\n",
    "    Compute Manhattan distance\n",
    "    \"\"\"\n",
    "    a = haversine(lat1, lng1, lat1, lng2)\n",
    "    b = haversine(lat1, lng1, lat2, lng1)\n",
    "    return a + b\n",
    "\n",
    "# Copied from part 2\n",
    "def bearing(lat1, lng1, lat2, lng2):\n",
    "    \"\"\"\n",
    "    Compute the bearing, or angle, from (lat1, lng1) to (lat2, lng2).\n",
    "    A bearing of 0 refers to a NORTH orientation.\n",
    "    \"\"\"\n",
    "    lng_delta_rad = np.radians(lng2 - lng1)\n",
    "    lat1, lng1, lat2, lng2 = map(np.radians, (lat1, lng1, lat2, lng2))\n",
    "    y = np.sin(lng_delta_rad) * np.cos(lat2)\n",
    "    x = np.cos(lat1) * np.sin(lat2) - np.sin(lat1) * np.cos(lat2) * np.cos(lng_delta_rad)\n",
    "    return np.degrees(np.arctan2(y, x))\n",
    "\n",
    "# Copied from part 2\n",
    "def add_time_columns(df):\n",
    "    \"\"\"\n",
    "    Add temporal features to df\n",
    "    \"\"\"\n",
    "    df.is_copy = False # propogate write to original dataframe\n",
    "    df.loc[:, 'month'] = df['tpep_pickup_datetime'].dt.month\n",
    "    df.loc[:, 'week_of_year'] = df['tpep_pickup_datetime'].dt.weekofyear\n",
    "    df.loc[:, 'day_of_month'] = df['tpep_pickup_datetime'].dt.day\n",
    "    df.loc[:, 'day_of_week'] = df['tpep_pickup_datetime'].dt.dayofweek\n",
    "    df.loc[:, 'hour'] = df['tpep_pickup_datetime'].dt.hour\n",
    "    df.loc[:, 'week_hour'] = df['tpep_pickup_datetime'].dt.weekday * 24 + df['hour']\n",
    "    return df\n",
    "\n",
    "# Copied from part 2\n",
    "def add_distance_columns(df):\n",
    "    \"\"\"\n",
    "    Add distance features to df\n",
    "    \"\"\"\n",
    "    df.is_copy = False # propogate write to original dataframe\n",
    "    df.loc[:, 'manhattan'] = manhattan_distance(lat1=df['pickup_latitude'],\n",
    "                                                lng1=df['pickup_longitude'],\n",
    "                                                lat2=df['dropoff_latitude'],\n",
    "                                                lng2=df['dropoff_longitude'])\n",
    "\n",
    "    df.loc[:, 'bearing'] = bearing(lat1=df['pickup_latitude'],\n",
    "                                   lng1=df['pickup_longitude'],\n",
    "                                   lat2=df['dropoff_latitude'],\n",
    "                                   lng2=df['dropoff_longitude'])\n",
    "    df.loc[:, 'haversine'] = haversine(lat1=df['pickup_latitude'],\n",
    "                                   lng1=df['pickup_longitude'],\n",
    "                                   lat2=df['dropoff_latitude'],\n",
    "                                   lng2=df['dropoff_longitude'])\n",
    "    return df\n",
    "\n",
    "def select_columns(data, *columns):\n",
    "    return data.loc[:, columns]\n",
    "\n",
    "cleaned_apr_16 = add_distance_columns(cleaned_apr_16)\n",
    "short_rides = add_distance_columns(short_rides)\n",
    "long_rides = add_distance_columns(long_rides)"
   ]
  },
  {
   "cell_type": "code",
   "execution_count": 8,
   "metadata": {},
   "outputs": [],
   "source": [
    "# calculating mae\n",
    "\n",
    "def mae(actual, predicted):\n",
    "    \"\"\"\n",
    "    Calculates MAE from actual and predicted values\n",
    "    Input:\n",
    "      actual (1D array-like): vector of actual values\n",
    "      predicted (1D array-like): vector of predicted/fitted values\n",
    "    Output:\n",
    "      a float, the MAE\n",
    "    \"\"\"\n",
    "    \n",
    "    mae = np.mean(np.abs(actual - predicted))\n",
    "    return mae\n"
   ]
  },
  {
   "cell_type": "code",
   "execution_count": 9,
   "metadata": {},
   "outputs": [],
   "source": [
    "# testing guided model\n",
    "\n",
    "# Run this cell to load the data. \n",
    "data_file = Path(\"./\", \"cleaned_data.hdf\")\n",
    "train_df = pd.read_hdf(data_file, \"train\")\n",
    "val_df = pd.read_hdf(data_file, \"val\")\n",
    "test_df = pd.read_csv(\"./proj2_test_data.csv\")\n",
    "test_df['tpep_pickup_datetime'] = pd.to_datetime(test_df['tpep_pickup_datetime'])\n",
    "\n",
    "\n",
    "# processing data for cleaned_apr_16\n",
    "def process_data_gm1(data, test=False):\n",
    "    X = (\n",
    "        data\n",
    "        \n",
    "        # Transform data\n",
    "        .pipe(add_time_columns)\n",
    "        .pipe(add_distance_columns)\n",
    "        \n",
    "        .pipe(select_columns,        \n",
    "              'pickup_longitude',  \n",
    "              'pickup_latitude',   \n",
    "              'dropoff_longitude', \n",
    "              'dropoff_latitude',\n",
    "              'trip_distance',\n",
    "              'manhattan',\n",
    "              'fare_amount',\n",
    "              'mta_tax',\n",
    "              'tip_amount',\n",
    "              'tolls_amount',\n",
    "              'improvement_surcharge',\n",
    "              'total_amount',\n",
    "              'month',\n",
    "              'week_of_year',\n",
    "              'day_of_month',\n",
    "              'day_of_week',\n",
    "              'hour',\n",
    "              'week_hour',\n",
    "              'bearing',\n",
    "              'haversine'\n",
    "             )\n",
    "    )\n",
    "    if test:\n",
    "        y = None\n",
    "    else:\n",
    "        y = data['duration']\n",
    "        \n",
    "    return X, y"
   ]
  },
  {
   "cell_type": "code",
   "execution_count": 10,
   "metadata": {},
   "outputs": [],
   "source": [
    "# Do test train split on cleaned_apr_16\n",
    "from sklearn.model_selection import train_test_split\n",
    "train_df, val_df = train_test_split(cleaned_apr_16, test_size=0.2, random_state=42)"
   ]
  },
  {
   "cell_type": "code",
   "execution_count": 11,
   "metadata": {},
   "outputs": [
    {
     "name": "stderr",
     "output_type": "stream",
     "text": [
      "/srv/conda/envs/data100/lib/python3.6/site-packages/pandas/core/generic.py:4388: FutureWarning: Attribute 'is_copy' is deprecated and will be removed in a future version.\n",
      "  object.__getattribute__(self, name)\n",
      "/srv/conda/envs/data100/lib/python3.6/site-packages/pandas/core/generic.py:4389: FutureWarning: Attribute 'is_copy' is deprecated and will be removed in a future version.\n",
      "  return object.__setattr__(self, name, value)\n"
     ]
    }
   ],
   "source": [
    "# Train and Predict Model\n",
    "\n",
    "X_train, y_train = process_data_gm1(train_df)\n",
    "X_val, y_val = process_data_gm1(val_df)\n",
    "final_model_1 = lm.LinearRegression(fit_intercept=True)\n",
    "final_model_1.fit(X_train, y_train)\n",
    "\n",
    "# Predict\n",
    "y_train_pred = final_model_1.predict(X_train)\n",
    "y_val_pred = final_model_1.predict(X_val)"
   ]
  },
  {
   "cell_type": "code",
   "execution_count": 12,
   "metadata": {
    "scrolled": false
   },
   "outputs": [
    {
     "name": "stderr",
     "output_type": "stream",
     "text": [
      "/srv/conda/envs/data100/lib/python3.6/site-packages/pandas/core/generic.py:4388: FutureWarning: Attribute 'is_copy' is deprecated and will be removed in a future version.\n",
      "  object.__getattribute__(self, name)\n",
      "/srv/conda/envs/data100/lib/python3.6/site-packages/pandas/core/generic.py:4389: FutureWarning: Attribute 'is_copy' is deprecated and will be removed in a future version.\n",
      "  return object.__setattr__(self, name, value)\n"
     ]
    }
   ],
   "source": [
    "X_test,y_test = process_data_gm1(test_df, test=True)"
   ]
  },
  {
   "cell_type": "code",
   "execution_count": 13,
   "metadata": {
    "scrolled": true
   },
   "outputs": [
    {
     "data": {
      "text/html": [
       "<div>\n",
       "<style scoped>\n",
       "    .dataframe tbody tr th:only-of-type {\n",
       "        vertical-align: middle;\n",
       "    }\n",
       "\n",
       "    .dataframe tbody tr th {\n",
       "        vertical-align: top;\n",
       "    }\n",
       "\n",
       "    .dataframe thead th {\n",
       "        text-align: right;\n",
       "    }\n",
       "</style>\n",
       "<table border=\"1\" class=\"dataframe\">\n",
       "  <thead>\n",
       "    <tr style=\"text-align: right;\">\n",
       "      <th></th>\n",
       "      <th>pickup_longitude</th>\n",
       "      <th>pickup_latitude</th>\n",
       "      <th>dropoff_longitude</th>\n",
       "      <th>dropoff_latitude</th>\n",
       "      <th>trip_distance</th>\n",
       "      <th>manhattan</th>\n",
       "      <th>fare_amount</th>\n",
       "      <th>mta_tax</th>\n",
       "      <th>tip_amount</th>\n",
       "      <th>tolls_amount</th>\n",
       "      <th>improvement_surcharge</th>\n",
       "      <th>total_amount</th>\n",
       "      <th>month</th>\n",
       "      <th>week_of_year</th>\n",
       "      <th>day_of_month</th>\n",
       "      <th>day_of_week</th>\n",
       "      <th>hour</th>\n",
       "      <th>week_hour</th>\n",
       "      <th>bearing</th>\n",
       "      <th>haversine</th>\n",
       "    </tr>\n",
       "  </thead>\n",
       "  <tbody>\n",
       "    <tr>\n",
       "      <th>0</th>\n",
       "      <td>-73.982224</td>\n",
       "      <td>40.768620</td>\n",
       "      <td>-73.983765</td>\n",
       "      <td>40.779598</td>\n",
       "      <td>1.20</td>\n",
       "      <td>1.350561</td>\n",
       "      <td>6.0</td>\n",
       "      <td>0.5</td>\n",
       "      <td>2.00</td>\n",
       "      <td>0.00</td>\n",
       "      <td>0.3</td>\n",
       "      <td>9.30</td>\n",
       "      <td>1</td>\n",
       "      <td>53</td>\n",
       "      <td>2</td>\n",
       "      <td>5</td>\n",
       "      <td>1</td>\n",
       "      <td>121</td>\n",
       "      <td>-6.067525</td>\n",
       "      <td>1.227654</td>\n",
       "    </tr>\n",
       "    <tr>\n",
       "      <th>1</th>\n",
       "      <td>-73.999977</td>\n",
       "      <td>40.738121</td>\n",
       "      <td>-73.888657</td>\n",
       "      <td>40.824364</td>\n",
       "      <td>10.90</td>\n",
       "      <td>18.968770</td>\n",
       "      <td>31.5</td>\n",
       "      <td>0.5</td>\n",
       "      <td>6.56</td>\n",
       "      <td>0.00</td>\n",
       "      <td>0.3</td>\n",
       "      <td>39.36</td>\n",
       "      <td>1</td>\n",
       "      <td>53</td>\n",
       "      <td>2</td>\n",
       "      <td>5</td>\n",
       "      <td>3</td>\n",
       "      <td>123</td>\n",
       "      <td>44.308599</td>\n",
       "      <td>13.409519</td>\n",
       "    </tr>\n",
       "    <tr>\n",
       "      <th>2</th>\n",
       "      <td>-73.986618</td>\n",
       "      <td>40.747379</td>\n",
       "      <td>-73.978508</td>\n",
       "      <td>40.729622</td>\n",
       "      <td>1.80</td>\n",
       "      <td>2.657731</td>\n",
       "      <td>8.5</td>\n",
       "      <td>0.5</td>\n",
       "      <td>1.96</td>\n",
       "      <td>0.00</td>\n",
       "      <td>0.3</td>\n",
       "      <td>11.76</td>\n",
       "      <td>1</td>\n",
       "      <td>53</td>\n",
       "      <td>2</td>\n",
       "      <td>5</td>\n",
       "      <td>3</td>\n",
       "      <td>123</td>\n",
       "      <td>160.909187</td>\n",
       "      <td>2.089418</td>\n",
       "    </tr>\n",
       "    <tr>\n",
       "      <th>3</th>\n",
       "      <td>-74.002922</td>\n",
       "      <td>40.744572</td>\n",
       "      <td>-73.942413</td>\n",
       "      <td>40.786419</td>\n",
       "      <td>5.95</td>\n",
       "      <td>9.750712</td>\n",
       "      <td>20.5</td>\n",
       "      <td>0.5</td>\n",
       "      <td>4.36</td>\n",
       "      <td>0.00</td>\n",
       "      <td>0.3</td>\n",
       "      <td>26.16</td>\n",
       "      <td>1</td>\n",
       "      <td>53</td>\n",
       "      <td>2</td>\n",
       "      <td>5</td>\n",
       "      <td>3</td>\n",
       "      <td>123</td>\n",
       "      <td>47.580277</td>\n",
       "      <td>6.900764</td>\n",
       "    </tr>\n",
       "    <tr>\n",
       "      <th>4</th>\n",
       "      <td>-73.986366</td>\n",
       "      <td>40.759464</td>\n",
       "      <td>-73.963081</td>\n",
       "      <td>40.760353</td>\n",
       "      <td>1.60</td>\n",
       "      <td>2.060014</td>\n",
       "      <td>8.0</td>\n",
       "      <td>0.5</td>\n",
       "      <td>0.00</td>\n",
       "      <td>0.00</td>\n",
       "      <td>0.3</td>\n",
       "      <td>9.30</td>\n",
       "      <td>1</td>\n",
       "      <td>53</td>\n",
       "      <td>2</td>\n",
       "      <td>5</td>\n",
       "      <td>4</td>\n",
       "      <td>124</td>\n",
       "      <td>87.107427</td>\n",
       "      <td>1.963656</td>\n",
       "    </tr>\n",
       "    <tr>\n",
       "      <th>5</th>\n",
       "      <td>-73.973664</td>\n",
       "      <td>40.750988</td>\n",
       "      <td>-73.949234</td>\n",
       "      <td>40.742249</td>\n",
       "      <td>2.60</td>\n",
       "      <td>12753.110988</td>\n",
       "      <td>10.5</td>\n",
       "      <td>0.5</td>\n",
       "      <td>3.45</td>\n",
       "      <td>5.54</td>\n",
       "      <td>0.3</td>\n",
       "      <td>20.79</td>\n",
       "      <td>1</td>\n",
       "      <td>53</td>\n",
       "      <td>2</td>\n",
       "      <td>5</td>\n",
       "      <td>5</td>\n",
       "      <td>125</td>\n",
       "      <td>-48.128150</td>\n",
       "      <td>8662.969579</td>\n",
       "    </tr>\n",
       "    <tr>\n",
       "      <th>6</th>\n",
       "      <td>-73.960381</td>\n",
       "      <td>40.761482</td>\n",
       "      <td>-73.991264</td>\n",
       "      <td>40.749912</td>\n",
       "      <td>3.10</td>\n",
       "      <td>3.887643</td>\n",
       "      <td>12.5</td>\n",
       "      <td>0.5</td>\n",
       "      <td>3.45</td>\n",
       "      <td>0.00</td>\n",
       "      <td>0.3</td>\n",
       "      <td>17.25</td>\n",
       "      <td>1</td>\n",
       "      <td>53</td>\n",
       "      <td>2</td>\n",
       "      <td>5</td>\n",
       "      <td>5</td>\n",
       "      <td>125</td>\n",
       "      <td>-116.305089</td>\n",
       "      <td>2.902093</td>\n",
       "    </tr>\n",
       "    <tr>\n",
       "      <th>7</th>\n",
       "      <td>-73.952293</td>\n",
       "      <td>40.773239</td>\n",
       "      <td>-73.992439</td>\n",
       "      <td>40.749519</td>\n",
       "      <td>3.66</td>\n",
       "      <td>6.018121</td>\n",
       "      <td>13.5</td>\n",
       "      <td>0.5</td>\n",
       "      <td>2.86</td>\n",
       "      <td>0.00</td>\n",
       "      <td>0.3</td>\n",
       "      <td>17.16</td>\n",
       "      <td>1</td>\n",
       "      <td>53</td>\n",
       "      <td>2</td>\n",
       "      <td>5</td>\n",
       "      <td>7</td>\n",
       "      <td>127</td>\n",
       "      <td>-127.943025</td>\n",
       "      <td>4.288246</td>\n",
       "    </tr>\n",
       "    <tr>\n",
       "      <th>8</th>\n",
       "      <td>-73.975060</td>\n",
       "      <td>40.761772</td>\n",
       "      <td>-73.981964</td>\n",
       "      <td>40.752319</td>\n",
       "      <td>0.69</td>\n",
       "      <td>1.632628</td>\n",
       "      <td>14.0</td>\n",
       "      <td>0.5</td>\n",
       "      <td>0.00</td>\n",
       "      <td>0.00</td>\n",
       "      <td>0.3</td>\n",
       "      <td>15.30</td>\n",
       "      <td>1</td>\n",
       "      <td>53</td>\n",
       "      <td>1</td>\n",
       "      <td>4</td>\n",
       "      <td>0</td>\n",
       "      <td>96</td>\n",
       "      <td>-151.042523</td>\n",
       "      <td>1.201266</td>\n",
       "    </tr>\n",
       "    <tr>\n",
       "      <th>9</th>\n",
       "      <td>-73.977020</td>\n",
       "      <td>40.758450</td>\n",
       "      <td>-73.979378</td>\n",
       "      <td>40.752300</td>\n",
       "      <td>0.59</td>\n",
       "      <td>0.882333</td>\n",
       "      <td>4.5</td>\n",
       "      <td>0.5</td>\n",
       "      <td>1.00</td>\n",
       "      <td>0.00</td>\n",
       "      <td>0.3</td>\n",
       "      <td>6.30</td>\n",
       "      <td>1</td>\n",
       "      <td>4</td>\n",
       "      <td>29</td>\n",
       "      <td>4</td>\n",
       "      <td>11</td>\n",
       "      <td>107</td>\n",
       "      <td>-163.805523</td>\n",
       "      <td>0.712020</td>\n",
       "    </tr>\n",
       "  </tbody>\n",
       "</table>\n",
       "</div>"
      ],
      "text/plain": [
       "   pickup_longitude  pickup_latitude  dropoff_longitude  dropoff_latitude  \\\n",
       "0        -73.982224        40.768620         -73.983765         40.779598   \n",
       "1        -73.999977        40.738121         -73.888657         40.824364   \n",
       "2        -73.986618        40.747379         -73.978508         40.729622   \n",
       "3        -74.002922        40.744572         -73.942413         40.786419   \n",
       "4        -73.986366        40.759464         -73.963081         40.760353   \n",
       "5        -73.973664        40.750988         -73.949234         40.742249   \n",
       "6        -73.960381        40.761482         -73.991264         40.749912   \n",
       "7        -73.952293        40.773239         -73.992439         40.749519   \n",
       "8        -73.975060        40.761772         -73.981964         40.752319   \n",
       "9        -73.977020        40.758450         -73.979378         40.752300   \n",
       "\n",
       "   trip_distance     manhattan  fare_amount  mta_tax  tip_amount  \\\n",
       "0           1.20      1.350561          6.0      0.5        2.00   \n",
       "1          10.90     18.968770         31.5      0.5        6.56   \n",
       "2           1.80      2.657731          8.5      0.5        1.96   \n",
       "3           5.95      9.750712         20.5      0.5        4.36   \n",
       "4           1.60      2.060014          8.0      0.5        0.00   \n",
       "5           2.60  12753.110988         10.5      0.5        3.45   \n",
       "6           3.10      3.887643         12.5      0.5        3.45   \n",
       "7           3.66      6.018121         13.5      0.5        2.86   \n",
       "8           0.69      1.632628         14.0      0.5        0.00   \n",
       "9           0.59      0.882333          4.5      0.5        1.00   \n",
       "\n",
       "   tolls_amount  improvement_surcharge  total_amount  month  week_of_year  \\\n",
       "0          0.00                    0.3          9.30      1            53   \n",
       "1          0.00                    0.3         39.36      1            53   \n",
       "2          0.00                    0.3         11.76      1            53   \n",
       "3          0.00                    0.3         26.16      1            53   \n",
       "4          0.00                    0.3          9.30      1            53   \n",
       "5          5.54                    0.3         20.79      1            53   \n",
       "6          0.00                    0.3         17.25      1            53   \n",
       "7          0.00                    0.3         17.16      1            53   \n",
       "8          0.00                    0.3         15.30      1            53   \n",
       "9          0.00                    0.3          6.30      1             4   \n",
       "\n",
       "   day_of_month  day_of_week  hour  week_hour     bearing    haversine  \n",
       "0             2            5     1        121   -6.067525     1.227654  \n",
       "1             2            5     3        123   44.308599    13.409519  \n",
       "2             2            5     3        123  160.909187     2.089418  \n",
       "3             2            5     3        123   47.580277     6.900764  \n",
       "4             2            5     4        124   87.107427     1.963656  \n",
       "5             2            5     5        125  -48.128150  8662.969579  \n",
       "6             2            5     5        125 -116.305089     2.902093  \n",
       "7             2            5     7        127 -127.943025     4.288246  \n",
       "8             1            4     0         96 -151.042523     1.201266  \n",
       "9            29            4    11        107 -163.805523     0.712020  "
      ]
     },
     "execution_count": 13,
     "metadata": {},
     "output_type": "execute_result"
    }
   ],
   "source": [
    "## Removing zeros in test set\n",
    "zeros = ['pickup_longitude','pickup_latitude','trip_distance','dropoff_longitude','dropoff_latitude','manhattan','bearing','haversine']\n",
    "for i in zeros:\n",
    "    zero_rows = X_test[X_test.loc[:,i] == 0].loc[:,i].index\n",
    "#     print(i)\n",
    "    X_test.loc[zero_rows, i] = np.mean(X_train[i])\n",
    "X_test.head(10)"
   ]
  },
  {
   "cell_type": "code",
   "execution_count": 14,
   "metadata": {},
   "outputs": [],
   "source": [
    "## Removing distance outliers in test set\n",
    "distances = ['manhattan','haversine']\n",
    "for i in distances:\n",
    "    outliers = X_test[X_test.loc[:,i] > 35].loc[:,i].index\n",
    "    X_test.loc[outliers, i] = np.mean(X_train[i])\n",
    "\n",
    "## Removing price outliers in test set \n",
    "prices = ['fare_amount','mta_tax','tip_amount','tolls_amount','improvement_surcharge','total_amount']\n",
    "for i in distances:\n",
    "    outliers = X_test[X_test.loc[:,i] < 0].loc[:,i].index\n",
    "    outliers2 = X_test[X_test.loc[:,i] > 200].loc[:,i].index\n",
    "    X_test.loc[outliers, i] = np.mean(X_train[i])\n",
    "    X_test.loc[outliers2, i] = np.mean(X_train[i])"
   ]
  },
  {
   "cell_type": "code",
   "execution_count": 15,
   "metadata": {
    "scrolled": false
   },
   "outputs": [
    {
     "name": "stdout",
     "output_type": "stream",
     "text": [
      "Validation Error:  157.199159396\n"
     ]
    }
   ],
   "source": [
    "print(\"Validation Error: \", mae(y_val_pred, y_val))"
   ]
  },
  {
   "cell_type": "code",
   "execution_count": 16,
   "metadata": {},
   "outputs": [
    {
     "name": "stdout",
     "output_type": "stream",
     "text": [
      "Training Error:  152.107625541\n"
     ]
    }
   ],
   "source": [
    "print(\"Training Error: \", mae(y_train_pred, y_train))"
   ]
  },
  {
   "cell_type": "code",
   "execution_count": 17,
   "metadata": {
    "scrolled": true
   },
   "outputs": [],
   "source": [
    "final_predictions = final_model_1.predict(X_test)\n",
    "final_predictions = final_predictions.astype(int)"
   ]
  },
  {
   "cell_type": "code",
   "execution_count": 18,
   "metadata": {},
   "outputs": [],
   "source": [
    "for i in np.arange(len(final_predictions)):\n",
    "    if final_predictions[i] < 0:\n",
    "        final_predictions[i] = -1 * final_predictions[i]"
   ]
  },
  {
   "cell_type": "code",
   "execution_count": 19,
   "metadata": {
    "scrolled": true
   },
   "outputs": [],
   "source": [
    "assert isinstance(final_predictions, np.ndarray), \"Submission not an array\"\n",
    "assert all(final_predictions >= 0), \"Duration must be non-negative\"\n",
    "assert issubclass(final_predictions.dtype.type, np.integer), \"Seconds must be integers\""
   ]
  },
  {
   "cell_type": "code",
   "execution_count": 20,
   "metadata": {},
   "outputs": [],
   "source": [
    "from datetime import datetime\n",
    "def generate_submission(test, predictions, force=False):\n",
    "    if force:\n",
    "        if not os.path.isdir(\"submissions\"):\n",
    "            os.mkdir(\"submissions\")\n",
    "        submission_df = pd.DataFrame({\n",
    "            \"id\": test_df.index.values, \n",
    "            \"duration\": predictions,\n",
    "        },\n",
    "            columns=['id', 'duration'])\n",
    "\n",
    "        timestamp = datetime.isoformat(datetime.now()).split(\".\")[0]\n",
    "\n",
    "        submission_df.to_csv(f'submissions/submission_{timestamp}.csv', index=False)\n",
    "\n",
    "        print(f'Created a CSV file: submission_{timestamp}.csv')\n",
    "        print('You may now upload this CSV file to Kaggle for scoring.')"
   ]
  },
  {
   "cell_type": "code",
   "execution_count": 21,
   "metadata": {
    "scrolled": true
   },
   "outputs": [
    {
     "name": "stdout",
     "output_type": "stream",
     "text": [
      "Created a CSV file: submission_2018-12-06T05:08:20.csv\n",
      "You may now upload this CSV file to Kaggle for scoring.\n"
     ]
    }
   ],
   "source": [
    "generate_submission(test_df, final_predictions, True)"
   ]
  },
  {
   "cell_type": "code",
   "execution_count": 22,
   "metadata": {},
   "outputs": [
    {
     "data": {
      "text/plain": [
       "Index(['record_id', 'VendorID', 'tpep_pickup_datetime',\n",
       "       'tpep_dropoff_datetime', 'passenger_count', 'trip_distance',\n",
       "       'pickup_longitude', 'pickup_latitude', 'RatecodeID',\n",
       "       'store_and_fwd_flag', 'dropoff_longitude', 'dropoff_latitude',\n",
       "       'payment_type', 'fare_amount', 'extra', 'mta_tax', 'tip_amount',\n",
       "       'tolls_amount', 'improvement_surcharge', 'total_amount', 'duration',\n",
       "       'month', 'week_of_year', 'day_of_month', 'day_of_week', 'hour',\n",
       "       'week_hour', 'manhattan', 'bearing', 'haversine'],\n",
       "      dtype='object')"
      ]
     },
     "execution_count": 22,
     "metadata": {},
     "output_type": "execute_result"
    }
   ],
   "source": [
    "train_df.columns"
   ]
  },
  {
   "cell_type": "code",
   "execution_count": 23,
   "metadata": {},
   "outputs": [
    {
     "data": {
      "image/png": "[encoded data removed]",
      "text/plain": [
       "<matplotlib.figure.Figure at 0x7f15780ab278>"
      ]
     },
     "metadata": {},
     "output_type": "display_data"
    }
   ],
   "source": [
    "fig, ax = plt.subplots(figsize=(9, 9))\n",
    "sns.distplot(np.log(train_df['trip_distance'] + 1),\n",
    "             ax=ax,\n",
    "             axlabel='log(duration)',\n",
    "             kde=False)\n",
    "\n",
    "plt.title('log(trip_distance) distribution');"
   ]
  },
  {
   "cell_type": "code",
   "execution_count": 24,
   "metadata": {},
   "outputs": [
    {
     "data": {
      "text/plain": [
       "Index(['record_id', 'VendorID', 'tpep_pickup_datetime',\n",
       "       'tpep_dropoff_datetime', 'passenger_count', 'trip_distance',\n",
       "       'pickup_longitude', 'pickup_latitude', 'RatecodeID',\n",
       "       'store_and_fwd_flag', 'dropoff_longitude', 'dropoff_latitude',\n",
       "       'payment_type', 'fare_amount', 'extra', 'mta_tax', 'tip_amount',\n",
       "       'tolls_amount', 'improvement_surcharge', 'total_amount', 'duration',\n",
       "       'month', 'week_of_year', 'day_of_month', 'day_of_week', 'hour',\n",
       "       'week_hour', 'manhattan', 'bearing', 'haversine'],\n",
       "      dtype='object')"
      ]
     },
     "execution_count": 24,
     "metadata": {},
     "output_type": "execute_result"
    }
   ],
   "source": [
    "train_df.columns"
   ]
  },
  {
   "cell_type": "code",
   "execution_count": 25,
   "metadata": {},
   "outputs": [
    {
     "data": {
      "image/png": "[encoded data removed]",
      "text/plain": [
       "<matplotlib.figure.Figure at 0x7f15781444a8>"
      ]
     },
     "metadata": {},
     "output_type": "display_data"
    }
   ],
   "source": [
    "fig, ax = plt.subplots(figsize=(9, 9))\n",
    "sns.scatterplot(x = 'record_id', y = 'duration', data = train_df)\n",
    "plt.title('record_id vs duration');"
   ]
  },
  {
   "cell_type": "code",
   "execution_count": 26,
   "metadata": {},
   "outputs": [
    {
     "data": {
      "image/png": "[encoded data removed]",
      "text/plain": [
       "<matplotlib.figure.Figure at 0x7f1560094e10>"
      ]
     },
     "metadata": {},
     "output_type": "display_data"
    }
   ],
   "source": [
    "fig, ax = plt.subplots(figsize=(9, 9))\n",
    "sns.distplot(train_df['tip_amount'],\n",
    "             ax=ax,\n",
    "             axlabel='log(duration)',\n",
    "             kde=False)\n",
    "\n",
    "plt.title('log(trip_distance) distribution');"
   ]
  },
  {
   "cell_type": "code",
   "execution_count": null,
   "metadata": {},
   "outputs": [],
   "source": []
  },
  {
   "cell_type": "markdown",
   "metadata": {},
   "source": [
    "## Submission\n",
    "\n",
    "You're almost done!\n",
    "\n",
    "Before submitting this assignment, ensure that you have:\n",
    "\n",
    "1. Restarted the Kernel (in the menubar, select Kernel$\\rightarrow$Restart & Run All)\n",
    "2. Validated the notebook by clicking the \"Validate\" button.\n",
    "\n",
    "Then,\n",
    "\n",
    "1. **Submit** the assignment via the Assignments tab in **Datahub** \n",
    "1. **Upload and tag** the manually reviewed portions of the assignment on **Gradescope**"
   ]
  },
  {
   "cell_type": "code",
   "execution_count": null,
   "metadata": {},
   "outputs": [],
   "source": []
  }
 ],
 "metadata": {
  "kernelspec": {
   "display_name": "Python 3",
   "language": "python",
   "name": "python3"
  },
  "language_info": {
   "codemirror_mode": {
    "name": "ipython",
    "version": 3
   },
   "file_extension": ".py",
   "mimetype": "text/x-python",
   "name": "python",
   "nbconvert_exporter": "python",
   "pygments_lexer": "ipython3",
   "version": "3.6.4"
  }
 },
 "nbformat": 4,
 "nbformat_minor": 2
}
