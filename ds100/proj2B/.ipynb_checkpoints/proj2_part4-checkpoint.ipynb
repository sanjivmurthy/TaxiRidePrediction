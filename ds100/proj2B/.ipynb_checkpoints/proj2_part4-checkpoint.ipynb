{
 "cells": [
  {
   "cell_type": "markdown",
   "metadata": {},
   "source": [
    "Before you turn in the homework, make sure everything runs as expected. To do so, select **Kernel**$\\rightarrow$**Restart & Run All** in the toolbar above.  Remember to submit both on **DataHub** and **Gradescope**.\n",
    "\n",
    "Please fill in your name and include a list of your collaborators below."
   ]
  },
  {
   "cell_type": "code",
   "execution_count": 1,
   "metadata": {},
   "outputs": [],
   "source": [
    "NAME = \"Sanjiv Murthy\"\n",
    "COLLABORATORS = \"\""
   ]
  },
  {
   "cell_type": "markdown",
   "metadata": {},
   "source": [
    "---"
   ]
  },
  {
   "cell_type": "markdown",
   "metadata": {
    "deletable": false,
    "editable": false,
    "nbgrader": {
     "cell_type": "markdown",
     "checksum": "60616857f10e17fe3a3659b334a00c81",
     "grade": false,
     "grade_id": "cell-776bdcdaa31aa0dd",
     "locked": true,
     "schema_version": 2,
     "solution": false
    }
   },
   "source": [
    "# Project 2: NYC Taxi Rides\n",
    "# Part 4:  Feature Engineering and Model Fitting\n",
    "\n",
    "In this final part of the project, you will finally build a regression model that attempts to predict the duration of a taxi ride from all other available information.\n",
    "\n",
    "You will build this model using a processing pipeline and submit your results to Kaggle. We will first walk you through a generic example using the data we saved from Part 1. Please carefully follow these steps as you will need to repeat this for your final model. After, we give you free reign and let you decide how you want to define your final model."
   ]
  },
  {
   "cell_type": "code",
   "execution_count": 2,
   "metadata": {
    "ExecuteTime": {
     "end_time": "2018-03-20T22:53:05.666930Z",
     "start_time": "2018-03-20T22:53:03.475900Z"
    },
    "deletable": false,
    "editable": false,
    "nbgrader": {
     "cell_type": "code",
     "checksum": "5c9f6b0f41bd824fb5842cbcc5026fc3",
     "grade": false,
     "grade_id": "cell-91e2a5cbad6e67c3",
     "locked": true,
     "schema_version": 2,
     "solution": false
    }
   },
   "outputs": [],
   "source": [
    "import os\n",
    "import pandas as pd\n",
    "import numpy as np\n",
    "import sklearn.linear_model as lm\n",
    "import matplotlib.pyplot as plt\n",
    "import seaborn as sns\n",
    "from pathlib import Path\n",
    "from sqlalchemy import create_engine\n",
    "from sklearn.model_selection import cross_val_score, train_test_split, GridSearchCV\n",
    "\n",
    "sns.set(style=\"whitegrid\", palette=\"muted\")\n",
    "\n",
    "plt.rcParams['figure.figsize'] = (12, 9)\n",
    "plt.rcParams['font.size'] = 12\n",
    "\n",
    "%matplotlib inline"
   ]
  },
  {
   "cell_type": "markdown",
   "metadata": {
    "deletable": false,
    "editable": false,
    "nbgrader": {
     "cell_type": "markdown",
     "checksum": "dbd23a86e04a0d95febfc23f65e93a23",
     "grade": false,
     "grade_id": "cell-f4b545c2be61fe3c",
     "locked": true,
     "schema_version": 2,
     "solution": false
    }
   },
   "source": [
    "## Training and Validation\n",
    "\n",
    "The following code loads the training and validation data from part 1 into a Pandas DataFrame."
   ]
  },
  {
   "cell_type": "code",
   "execution_count": 3,
   "metadata": {
    "deletable": false,
    "editable": false,
    "nbgrader": {
     "cell_type": "code",
     "checksum": "fb8ffaea62c10a43b26ec8116c8c9983",
     "grade": false,
     "grade_id": "cell-ec99abaff54cdd7c",
     "locked": true,
     "schema_version": 2,
     "solution": false
    }
   },
   "outputs": [],
   "source": [
    "# Run this cell to load the data. \n",
    "data_file = Path(\"./\", \"cleaned_data.hdf\")\n",
    "train_df = pd.read_hdf(data_file, \"train\")\n",
    "val_df = pd.read_hdf(data_file, \"val\")"
   ]
  },
  {
   "cell_type": "markdown",
   "metadata": {
    "deletable": false,
    "editable": false,
    "nbgrader": {
     "cell_type": "markdown",
     "checksum": "6a6fd19f3ad15b924d20ac1ece2b355f",
     "grade": false,
     "grade_id": "cell-28aff643fb4e8794",
     "locked": true,
     "schema_version": 2,
     "solution": false
    }
   },
   "source": [
    "## Testing\n",
    "Here we load our testing data on which we will evaluate your model."
   ]
  },
  {
   "cell_type": "code",
   "execution_count": 4,
   "metadata": {
    "deletable": false,
    "editable": false,
    "nbgrader": {
     "cell_type": "code",
     "checksum": "cc32dd0cfdf4a2d4d6708353e06becf3",
     "grade": false,
     "grade_id": "cell-44d123e5bf4c04a4",
     "locked": true,
     "schema_version": 2,
     "solution": false
    }
   },
   "outputs": [
    {
     "data": {
      "text/html": [
       "<div>\n",
       "<style scoped>\n",
       "    .dataframe tbody tr th:only-of-type {\n",
       "        vertical-align: middle;\n",
       "    }\n",
       "\n",
       "    .dataframe tbody tr th {\n",
       "        vertical-align: top;\n",
       "    }\n",
       "\n",
       "    .dataframe thead th {\n",
       "        text-align: right;\n",
       "    }\n",
       "</style>\n",
       "<table border=\"1\" class=\"dataframe\">\n",
       "  <thead>\n",
       "    <tr style=\"text-align: right;\">\n",
       "      <th></th>\n",
       "      <th>record_id</th>\n",
       "      <th>VendorID</th>\n",
       "      <th>tpep_pickup_datetime</th>\n",
       "      <th>passenger_count</th>\n",
       "      <th>trip_distance</th>\n",
       "      <th>pickup_longitude</th>\n",
       "      <th>pickup_latitude</th>\n",
       "      <th>RatecodeID</th>\n",
       "      <th>store_and_fwd_flag</th>\n",
       "      <th>dropoff_longitude</th>\n",
       "      <th>dropoff_latitude</th>\n",
       "      <th>payment_type</th>\n",
       "      <th>fare_amount</th>\n",
       "      <th>extra</th>\n",
       "      <th>mta_tax</th>\n",
       "      <th>tip_amount</th>\n",
       "      <th>tolls_amount</th>\n",
       "      <th>improvement_surcharge</th>\n",
       "      <th>total_amount</th>\n",
       "    </tr>\n",
       "  </thead>\n",
       "  <tbody>\n",
       "    <tr>\n",
       "      <th>0</th>\n",
       "      <td>10000</td>\n",
       "      <td>1</td>\n",
       "      <td>2016-01-02 01:45:37</td>\n",
       "      <td>1</td>\n",
       "      <td>1.20</td>\n",
       "      <td>-73.982224</td>\n",
       "      <td>40.768620</td>\n",
       "      <td>1</td>\n",
       "      <td>N</td>\n",
       "      <td>-73.983765</td>\n",
       "      <td>40.779598</td>\n",
       "      <td>1</td>\n",
       "      <td>6.0</td>\n",
       "      <td>0.5</td>\n",
       "      <td>0.5</td>\n",
       "      <td>2.00</td>\n",
       "      <td>0.0</td>\n",
       "      <td>0.3</td>\n",
       "      <td>9.30</td>\n",
       "    </tr>\n",
       "    <tr>\n",
       "      <th>1</th>\n",
       "      <td>19000</td>\n",
       "      <td>2</td>\n",
       "      <td>2016-01-02 03:05:16</td>\n",
       "      <td>1</td>\n",
       "      <td>10.90</td>\n",
       "      <td>-73.999977</td>\n",
       "      <td>40.738121</td>\n",
       "      <td>1</td>\n",
       "      <td>N</td>\n",
       "      <td>-73.888657</td>\n",
       "      <td>40.824364</td>\n",
       "      <td>1</td>\n",
       "      <td>31.5</td>\n",
       "      <td>0.5</td>\n",
       "      <td>0.5</td>\n",
       "      <td>6.56</td>\n",
       "      <td>0.0</td>\n",
       "      <td>0.3</td>\n",
       "      <td>39.36</td>\n",
       "    </tr>\n",
       "    <tr>\n",
       "      <th>2</th>\n",
       "      <td>21000</td>\n",
       "      <td>1</td>\n",
       "      <td>2016-01-02 03:24:36</td>\n",
       "      <td>1</td>\n",
       "      <td>1.80</td>\n",
       "      <td>-73.986618</td>\n",
       "      <td>40.747379</td>\n",
       "      <td>1</td>\n",
       "      <td>N</td>\n",
       "      <td>-73.978508</td>\n",
       "      <td>40.729622</td>\n",
       "      <td>1</td>\n",
       "      <td>8.5</td>\n",
       "      <td>0.5</td>\n",
       "      <td>0.5</td>\n",
       "      <td>1.96</td>\n",
       "      <td>0.0</td>\n",
       "      <td>0.3</td>\n",
       "      <td>11.76</td>\n",
       "    </tr>\n",
       "    <tr>\n",
       "      <th>3</th>\n",
       "      <td>23000</td>\n",
       "      <td>2</td>\n",
       "      <td>2016-01-02 03:47:38</td>\n",
       "      <td>1</td>\n",
       "      <td>5.95</td>\n",
       "      <td>-74.002922</td>\n",
       "      <td>40.744572</td>\n",
       "      <td>1</td>\n",
       "      <td>N</td>\n",
       "      <td>-73.942413</td>\n",
       "      <td>40.786419</td>\n",
       "      <td>1</td>\n",
       "      <td>20.5</td>\n",
       "      <td>0.5</td>\n",
       "      <td>0.5</td>\n",
       "      <td>4.36</td>\n",
       "      <td>0.0</td>\n",
       "      <td>0.3</td>\n",
       "      <td>26.16</td>\n",
       "    </tr>\n",
       "    <tr>\n",
       "      <th>4</th>\n",
       "      <td>27000</td>\n",
       "      <td>1</td>\n",
       "      <td>2016-01-02 04:36:44</td>\n",
       "      <td>1</td>\n",
       "      <td>1.60</td>\n",
       "      <td>-73.986366</td>\n",
       "      <td>40.759464</td>\n",
       "      <td>1</td>\n",
       "      <td>N</td>\n",
       "      <td>-73.963081</td>\n",
       "      <td>40.760353</td>\n",
       "      <td>2</td>\n",
       "      <td>8.0</td>\n",
       "      <td>0.5</td>\n",
       "      <td>0.5</td>\n",
       "      <td>0.00</td>\n",
       "      <td>0.0</td>\n",
       "      <td>0.3</td>\n",
       "      <td>9.30</td>\n",
       "    </tr>\n",
       "  </tbody>\n",
       "</table>\n",
       "</div>"
      ],
      "text/plain": [
       "   record_id  VendorID tpep_pickup_datetime  passenger_count  trip_distance  \\\n",
       "0      10000         1  2016-01-02 01:45:37                1           1.20   \n",
       "1      19000         2  2016-01-02 03:05:16                1          10.90   \n",
       "2      21000         1  2016-01-02 03:24:36                1           1.80   \n",
       "3      23000         2  2016-01-02 03:47:38                1           5.95   \n",
       "4      27000         1  2016-01-02 04:36:44                1           1.60   \n",
       "\n",
       "   pickup_longitude  pickup_latitude  RatecodeID store_and_fwd_flag  \\\n",
       "0        -73.982224        40.768620           1                  N   \n",
       "1        -73.999977        40.738121           1                  N   \n",
       "2        -73.986618        40.747379           1                  N   \n",
       "3        -74.002922        40.744572           1                  N   \n",
       "4        -73.986366        40.759464           1                  N   \n",
       "\n",
       "   dropoff_longitude  dropoff_latitude  payment_type  fare_amount  extra  \\\n",
       "0         -73.983765         40.779598             1          6.0    0.5   \n",
       "1         -73.888657         40.824364             1         31.5    0.5   \n",
       "2         -73.978508         40.729622             1          8.5    0.5   \n",
       "3         -73.942413         40.786419             1         20.5    0.5   \n",
       "4         -73.963081         40.760353             2          8.0    0.5   \n",
       "\n",
       "   mta_tax  tip_amount  tolls_amount  improvement_surcharge  total_amount  \n",
       "0      0.5        2.00           0.0                    0.3          9.30  \n",
       "1      0.5        6.56           0.0                    0.3         39.36  \n",
       "2      0.5        1.96           0.0                    0.3         11.76  \n",
       "3      0.5        4.36           0.0                    0.3         26.16  \n",
       "4      0.5        0.00           0.0                    0.3          9.30  "
      ]
     },
     "execution_count": 4,
     "metadata": {},
     "output_type": "execute_result"
    }
   ],
   "source": [
    "test_df = pd.read_csv(\"./proj2_test_data.csv\")\n",
    "test_df['tpep_pickup_datetime'] = pd.to_datetime(test_df['tpep_pickup_datetime'])\n",
    "test_df.head()"
   ]
  },
  {
   "cell_type": "code",
   "execution_count": 5,
   "metadata": {
    "deletable": false,
    "editable": false,
    "nbgrader": {
     "cell_type": "code",
     "checksum": "a3dfe22f0f6736f67aea35e8f97fa73b",
     "grade": false,
     "grade_id": "cell-46e155fe7ae16e6c",
     "locked": true,
     "schema_version": 2,
     "solution": false
    }
   },
   "outputs": [
    {
     "data": {
      "text/html": [
       "<div>\n",
       "<style scoped>\n",
       "    .dataframe tbody tr th:only-of-type {\n",
       "        vertical-align: middle;\n",
       "    }\n",
       "\n",
       "    .dataframe tbody tr th {\n",
       "        vertical-align: top;\n",
       "    }\n",
       "\n",
       "    .dataframe thead th {\n",
       "        text-align: right;\n",
       "    }\n",
       "</style>\n",
       "<table border=\"1\" class=\"dataframe\">\n",
       "  <thead>\n",
       "    <tr style=\"text-align: right;\">\n",
       "      <th></th>\n",
       "      <th>record_id</th>\n",
       "      <th>VendorID</th>\n",
       "      <th>passenger_count</th>\n",
       "      <th>trip_distance</th>\n",
       "      <th>pickup_longitude</th>\n",
       "      <th>pickup_latitude</th>\n",
       "      <th>RatecodeID</th>\n",
       "      <th>dropoff_longitude</th>\n",
       "      <th>dropoff_latitude</th>\n",
       "      <th>payment_type</th>\n",
       "      <th>fare_amount</th>\n",
       "      <th>extra</th>\n",
       "      <th>mta_tax</th>\n",
       "      <th>tip_amount</th>\n",
       "      <th>tolls_amount</th>\n",
       "      <th>improvement_surcharge</th>\n",
       "      <th>total_amount</th>\n",
       "    </tr>\n",
       "  </thead>\n",
       "  <tbody>\n",
       "    <tr>\n",
       "      <th>count</th>\n",
       "      <td>1.377400e+04</td>\n",
       "      <td>13774.000000</td>\n",
       "      <td>13774.000000</td>\n",
       "      <td>13774.000000</td>\n",
       "      <td>13774.000000</td>\n",
       "      <td>13774.000000</td>\n",
       "      <td>13774.000000</td>\n",
       "      <td>13774.000000</td>\n",
       "      <td>13774.000000</td>\n",
       "      <td>13774.000000</td>\n",
       "      <td>13774.000000</td>\n",
       "      <td>13774.000000</td>\n",
       "      <td>13774.000000</td>\n",
       "      <td>13774.000000</td>\n",
       "      <td>13774.000000</td>\n",
       "      <td>13774.000000</td>\n",
       "      <td>13774.000000</td>\n",
       "    </tr>\n",
       "    <tr>\n",
       "      <th>mean</th>\n",
       "      <td>3.465950e+07</td>\n",
       "      <td>1.536082</td>\n",
       "      <td>1.663642</td>\n",
       "      <td>2.954688</td>\n",
       "      <td>-72.953619</td>\n",
       "      <td>40.187999</td>\n",
       "      <td>1.043778</td>\n",
       "      <td>-73.055577</td>\n",
       "      <td>40.245056</td>\n",
       "      <td>1.340061</td>\n",
       "      <td>12.836930</td>\n",
       "      <td>0.333091</td>\n",
       "      <td>0.497985</td>\n",
       "      <td>1.805420</td>\n",
       "      <td>0.304031</td>\n",
       "      <td>0.299652</td>\n",
       "      <td>16.077391</td>\n",
       "    </tr>\n",
       "    <tr>\n",
       "      <th>std</th>\n",
       "      <td>2.015133e+07</td>\n",
       "      <td>0.498714</td>\n",
       "      <td>1.311739</td>\n",
       "      <td>3.704427</td>\n",
       "      <td>8.628431</td>\n",
       "      <td>4.753186</td>\n",
       "      <td>0.877637</td>\n",
       "      <td>8.191366</td>\n",
       "      <td>4.512564</td>\n",
       "      <td>0.490019</td>\n",
       "      <td>10.707619</td>\n",
       "      <td>0.429590</td>\n",
       "      <td>0.036632</td>\n",
       "      <td>2.416784</td>\n",
       "      <td>1.363097</td>\n",
       "      <td>0.013522</td>\n",
       "      <td>13.206231</td>\n",
       "    </tr>\n",
       "    <tr>\n",
       "      <th>min</th>\n",
       "      <td>1.000000e+04</td>\n",
       "      <td>1.000000</td>\n",
       "      <td>0.000000</td>\n",
       "      <td>0.000000</td>\n",
       "      <td>-77.039436</td>\n",
       "      <td>0.000000</td>\n",
       "      <td>1.000000</td>\n",
       "      <td>-77.039436</td>\n",
       "      <td>0.000000</td>\n",
       "      <td>1.000000</td>\n",
       "      <td>-93.300000</td>\n",
       "      <td>-0.500000</td>\n",
       "      <td>-0.500000</td>\n",
       "      <td>0.000000</td>\n",
       "      <td>0.000000</td>\n",
       "      <td>-0.300000</td>\n",
       "      <td>-93.600000</td>\n",
       "    </tr>\n",
       "    <tr>\n",
       "      <th>25%</th>\n",
       "      <td>1.719975e+07</td>\n",
       "      <td>1.000000</td>\n",
       "      <td>1.000000</td>\n",
       "      <td>1.000000</td>\n",
       "      <td>-73.992058</td>\n",
       "      <td>40.735166</td>\n",
       "      <td>1.000000</td>\n",
       "      <td>-73.991318</td>\n",
       "      <td>40.734002</td>\n",
       "      <td>1.000000</td>\n",
       "      <td>6.500000</td>\n",
       "      <td>0.000000</td>\n",
       "      <td>0.500000</td>\n",
       "      <td>0.000000</td>\n",
       "      <td>0.000000</td>\n",
       "      <td>0.300000</td>\n",
       "      <td>8.750000</td>\n",
       "    </tr>\n",
       "    <tr>\n",
       "      <th>50%</th>\n",
       "      <td>3.457400e+07</td>\n",
       "      <td>2.000000</td>\n",
       "      <td>1.000000</td>\n",
       "      <td>1.700000</td>\n",
       "      <td>-73.981846</td>\n",
       "      <td>40.752432</td>\n",
       "      <td>1.000000</td>\n",
       "      <td>-73.979897</td>\n",
       "      <td>40.753263</td>\n",
       "      <td>1.000000</td>\n",
       "      <td>9.500000</td>\n",
       "      <td>0.000000</td>\n",
       "      <td>0.500000</td>\n",
       "      <td>1.350000</td>\n",
       "      <td>0.000000</td>\n",
       "      <td>0.300000</td>\n",
       "      <td>11.800000</td>\n",
       "    </tr>\n",
       "    <tr>\n",
       "      <th>75%</th>\n",
       "      <td>5.216875e+07</td>\n",
       "      <td>2.000000</td>\n",
       "      <td>2.000000</td>\n",
       "      <td>3.157500</td>\n",
       "      <td>-73.967119</td>\n",
       "      <td>40.767264</td>\n",
       "      <td>1.000000</td>\n",
       "      <td>-73.962749</td>\n",
       "      <td>40.768455</td>\n",
       "      <td>2.000000</td>\n",
       "      <td>14.500000</td>\n",
       "      <td>0.500000</td>\n",
       "      <td>0.500000</td>\n",
       "      <td>2.360000</td>\n",
       "      <td>0.000000</td>\n",
       "      <td>0.300000</td>\n",
       "      <td>17.800000</td>\n",
       "    </tr>\n",
       "    <tr>\n",
       "      <th>max</th>\n",
       "      <td>6.940400e+07</td>\n",
       "      <td>2.000000</td>\n",
       "      <td>6.000000</td>\n",
       "      <td>104.800000</td>\n",
       "      <td>0.000000</td>\n",
       "      <td>40.868210</td>\n",
       "      <td>99.000000</td>\n",
       "      <td>0.000000</td>\n",
       "      <td>41.540859</td>\n",
       "      <td>4.000000</td>\n",
       "      <td>156.040000</td>\n",
       "      <td>4.500000</td>\n",
       "      <td>1.740000</td>\n",
       "      <td>40.000000</td>\n",
       "      <td>20.000000</td>\n",
       "      <td>0.300000</td>\n",
       "      <td>187.590000</td>\n",
       "    </tr>\n",
       "  </tbody>\n",
       "</table>\n",
       "</div>"
      ],
      "text/plain": [
       "          record_id      VendorID  passenger_count  trip_distance  \\\n",
       "count  1.377400e+04  13774.000000     13774.000000   13774.000000   \n",
       "mean   3.465950e+07      1.536082         1.663642       2.954688   \n",
       "std    2.015133e+07      0.498714         1.311739       3.704427   \n",
       "min    1.000000e+04      1.000000         0.000000       0.000000   \n",
       "25%    1.719975e+07      1.000000         1.000000       1.000000   \n",
       "50%    3.457400e+07      2.000000         1.000000       1.700000   \n",
       "75%    5.216875e+07      2.000000         2.000000       3.157500   \n",
       "max    6.940400e+07      2.000000         6.000000     104.800000   \n",
       "\n",
       "       pickup_longitude  pickup_latitude    RatecodeID  dropoff_longitude  \\\n",
       "count      13774.000000     13774.000000  13774.000000       13774.000000   \n",
       "mean         -72.953619        40.187999      1.043778         -73.055577   \n",
       "std            8.628431         4.753186      0.877637           8.191366   \n",
       "min          -77.039436         0.000000      1.000000         -77.039436   \n",
       "25%          -73.992058        40.735166      1.000000         -73.991318   \n",
       "50%          -73.981846        40.752432      1.000000         -73.979897   \n",
       "75%          -73.967119        40.767264      1.000000         -73.962749   \n",
       "max            0.000000        40.868210     99.000000           0.000000   \n",
       "\n",
       "       dropoff_latitude  payment_type   fare_amount         extra  \\\n",
       "count      13774.000000  13774.000000  13774.000000  13774.000000   \n",
       "mean          40.245056      1.340061     12.836930      0.333091   \n",
       "std            4.512564      0.490019     10.707619      0.429590   \n",
       "min            0.000000      1.000000    -93.300000     -0.500000   \n",
       "25%           40.734002      1.000000      6.500000      0.000000   \n",
       "50%           40.753263      1.000000      9.500000      0.000000   \n",
       "75%           40.768455      2.000000     14.500000      0.500000   \n",
       "max           41.540859      4.000000    156.040000      4.500000   \n",
       "\n",
       "            mta_tax    tip_amount  tolls_amount  improvement_surcharge  \\\n",
       "count  13774.000000  13774.000000  13774.000000           13774.000000   \n",
       "mean       0.497985      1.805420      0.304031               0.299652   \n",
       "std        0.036632      2.416784      1.363097               0.013522   \n",
       "min       -0.500000      0.000000      0.000000              -0.300000   \n",
       "25%        0.500000      0.000000      0.000000               0.300000   \n",
       "50%        0.500000      1.350000      0.000000               0.300000   \n",
       "75%        0.500000      2.360000      0.000000               0.300000   \n",
       "max        1.740000     40.000000     20.000000               0.300000   \n",
       "\n",
       "       total_amount  \n",
       "count  13774.000000  \n",
       "mean      16.077391  \n",
       "std       13.206231  \n",
       "min      -93.600000  \n",
       "25%        8.750000  \n",
       "50%       11.800000  \n",
       "75%       17.800000  \n",
       "max      187.590000  "
      ]
     },
     "execution_count": 5,
     "metadata": {},
     "output_type": "execute_result"
    }
   ],
   "source": [
    "test_df.describe()"
   ]
  },
  {
   "cell_type": "code",
   "execution_count": 6,
   "metadata": {},
   "outputs": [
    {
     "data": {
      "text/plain": [
       "(17724, 21)"
      ]
     },
     "execution_count": 6,
     "metadata": {},
     "output_type": "execute_result"
    }
   ],
   "source": [
    "train_df.shape"
   ]
  },
  {
   "cell_type": "markdown",
   "metadata": {
    "deletable": false,
    "editable": false,
    "nbgrader": {
     "cell_type": "markdown",
     "checksum": "2357c24398c4ef5cc3899fd598cc5fc6",
     "grade": false,
     "grade_id": "cell-0d441ceef9b7f4e0",
     "locked": true,
     "schema_version": 2,
     "solution": false
    }
   },
   "source": [
    "# Modeling\n",
    "\n",
    "We've finally gotten to a point where we can specify a simple model. Remember that we will be fitting our model on the training set we created in part 1. We will use our validation set to evaluate how well our model might perform on future data."
   ]
  },
  {
   "cell_type": "markdown",
   "metadata": {
    "deletable": false,
    "editable": false,
    "nbgrader": {
     "cell_type": "markdown",
     "checksum": "712b62308e2058b1acc48ac3e5ce33e0",
     "grade": false,
     "grade_id": "cell-3725d1930850468b",
     "locked": true,
     "schema_version": 2,
     "solution": false
    }
   },
   "source": [
    "### Reusable Pipeline\n",
    "\n",
    "Throughout this assignment, you should notice that your data flows through a single processing pipeline several times.  From a software engineering perspective, this should be sufficient motivation to abstract parts of our code into reusable functions/methods.  We will now encapsulate our entire pipeline into a single function `process_data_gm`.  gm is shorthand for \"guided model\"."
   ]
  },
  {
   "cell_type": "code",
   "execution_count": 7,
   "metadata": {
    "deletable": false,
    "editable": false,
    "nbgrader": {
     "cell_type": "code",
     "checksum": "d5c20c7e375489c94431f21fd5416ddf",
     "grade": false,
     "grade_id": "cell-0627b259f25d7b70",
     "locked": true,
     "schema_version": 2,
     "solution": false
    }
   },
   "outputs": [],
   "source": [
    "# Copied from part 2\n",
    "def haversine(lat1, lng1, lat2, lng2):\n",
    "    \"\"\"\n",
    "    Compute haversine distance\n",
    "    \"\"\"\n",
    "    lat1, lng1, lat2, lng2 = map(np.radians, (lat1, lng1, lat2, lng2))\n",
    "    average_earth_radius = 6371\n",
    "    lat = lat2 - lat1\n",
    "    lng = lng2 - lng1\n",
    "    d = np.sin(lat * 0.5) ** 2 + np.cos(lat1) * np.cos(lat2) * np.sin(lng * 0.5) ** 2\n",
    "    h = 2 * average_earth_radius * np.arcsin(np.sqrt(d))\n",
    "    return h\n",
    "\n",
    "# Copied from part 2\n",
    "def manhattan_distance(lat1, lng1, lat2, lng2):\n",
    "    \"\"\"\n",
    "    Compute Manhattan distance\n",
    "    \"\"\"\n",
    "    a = haversine(lat1, lng1, lat1, lng2)\n",
    "    b = haversine(lat1, lng1, lat2, lng1)\n",
    "    return a + b\n",
    "\n",
    "# Copied from part 2\n",
    "def bearing(lat1, lng1, lat2, lng2):\n",
    "    \"\"\"\n",
    "    Compute the bearing, or angle, from (lat1, lng1) to (lat2, lng2).\n",
    "    A bearing of 0 refers to a NORTH orientation.\n",
    "    \"\"\"\n",
    "    lng_delta_rad = np.radians(lng2 - lng1)\n",
    "    lat1, lng1, lat2, lng2 = map(np.radians, (lat1, lng1, lat2, lng2))\n",
    "    y = np.sin(lng_delta_rad) * np.cos(lat2)\n",
    "    x = np.cos(lat1) * np.sin(lat2) - np.sin(lat1) * np.cos(lat2) * np.cos(lng_delta_rad)\n",
    "    return np.degrees(np.arctan2(y, x))\n",
    "\n",
    "# Copied from part 2\n",
    "def add_time_columns(df):\n",
    "    \"\"\"\n",
    "    Add temporal features to df\n",
    "    \"\"\"\n",
    "    df.is_copy = False # propogate write to original dataframe\n",
    "    df.loc[:, 'month'] = df['tpep_pickup_datetime'].dt.month\n",
    "    df.loc[:, 'week_of_year'] = df['tpep_pickup_datetime'].dt.weekofyear\n",
    "    df.loc[:, 'day_of_month'] = df['tpep_pickup_datetime'].dt.day\n",
    "    df.loc[:, 'day_of_week'] = df['tpep_pickup_datetime'].dt.dayofweek\n",
    "    df.loc[:, 'hour'] = df['tpep_pickup_datetime'].dt.hour\n",
    "    df.loc[:, 'week_hour'] = df['tpep_pickup_datetime'].dt.weekday * 24 + df['hour']\n",
    "    return df\n",
    "\n",
    "# Copied from part 2\n",
    "def add_distance_columns(df):\n",
    "    \"\"\"\n",
    "    Add distance features to df\n",
    "    \"\"\"\n",
    "    df.is_copy = False # propogate write to original dataframe\n",
    "    df.loc[:, 'manhattan'] = manhattan_distance(lat1=df['pickup_latitude'],\n",
    "                                                lng1=df['pickup_longitude'],\n",
    "                                                lat2=df['dropoff_latitude'],\n",
    "                                                lng2=df['dropoff_longitude'])\n",
    "\n",
    "    df.loc[:, 'bearing'] = bearing(lat1=df['pickup_latitude'],\n",
    "                                   lng1=df['pickup_longitude'],\n",
    "                                   lat2=df['dropoff_latitude'],\n",
    "                                   lng2=df['dropoff_longitude'])\n",
    "    df.loc[:, 'haversine'] = haversine(lat1=df['pickup_latitude'],\n",
    "                                   lng1=df['pickup_longitude'],\n",
    "                                   lat2=df['dropoff_latitude'],\n",
    "                                   lng2=df['dropoff_longitude'])\n",
    "    return df\n",
    "\n",
    "def select_columns(data, *columns):\n",
    "    return data.loc[:, columns]"
   ]
  },
  {
   "cell_type": "code",
   "execution_count": 8,
   "metadata": {
    "deletable": false,
    "editable": false,
    "nbgrader": {
     "cell_type": "code",
     "checksum": "5ede4e2e0cbdd1affacb0273089e4fe3",
     "grade": false,
     "grade_id": "cell-507f8020b5b9a835",
     "locked": true,
     "schema_version": 2,
     "solution": false
    }
   },
   "outputs": [],
   "source": [
    "def process_data_gm1(data, test=False):\n",
    "    X = (\n",
    "        data\n",
    "        \n",
    "        # Transform data\n",
    "        .pipe(add_time_columns)\n",
    "        .pipe(add_distance_columns)\n",
    "        \n",
    "        .pipe(select_columns,        \n",
    "              'pickup_longitude',  \n",
    "              'pickup_latitude',   \n",
    "              'dropoff_longitude', \n",
    "              'dropoff_latitude',\n",
    "              'manhattan',\n",
    "             )\n",
    "    )\n",
    "    if test:\n",
    "        y = None\n",
    "    else:\n",
    "        y = data['duration']\n",
    "        \n",
    "    return X, y"
   ]
  },
  {
   "cell_type": "markdown",
   "metadata": {
    "deletable": false,
    "editable": false,
    "nbgrader": {
     "cell_type": "markdown",
     "checksum": "e1d8e5da0b5acf865ee193e1399c0ef1",
     "grade": false,
     "grade_id": "cell-4a3e4e0d97a10e09",
     "locked": true,
     "schema_version": 2,
     "solution": false
    }
   },
   "source": [
    "We will use our pipeline defined above to pre-process our training and test data in exactly the same way. Our functions make this relatively easy to do!"
   ]
  },
  {
   "cell_type": "code",
   "execution_count": 9,
   "metadata": {
    "deletable": false,
    "editable": false,
    "nbgrader": {
     "cell_type": "code",
     "checksum": "328e13b72e8702b7e4c81747075b8c67",
     "grade": false,
     "grade_id": "cell-a9a66cd4aafc3d03",
     "locked": true,
     "schema_version": 2,
     "solution": false
    }
   },
   "outputs": [
    {
     "name": "stderr",
     "output_type": "stream",
     "text": [
      "/srv/conda/envs/data100/lib/python3.6/site-packages/pandas/core/generic.py:4388: FutureWarning: Attribute 'is_copy' is deprecated and will be removed in a future version.\n",
      "  object.__getattribute__(self, name)\n",
      "/srv/conda/envs/data100/lib/python3.6/site-packages/pandas/core/generic.py:4389: FutureWarning: Attribute 'is_copy' is deprecated and will be removed in a future version.\n",
      "  return object.__setattr__(self, name, value)\n"
     ]
    }
   ],
   "source": [
    "# Train\n",
    "X_train, y_train = process_data_gm1(train_df)\n",
    "X_val, y_val = process_data_gm1(val_df)\n",
    "guided_model_1 = lm.LinearRegression(fit_intercept=True)\n",
    "guided_model_1.fit(X_train, y_train)\n",
    "\n",
    "# Predict\n",
    "y_train_pred = guided_model_1.predict(X_train)\n",
    "y_val_pred = guided_model_1.predict(X_val)"
   ]
  },
  {
   "cell_type": "code",
   "execution_count": 10,
   "metadata": {},
   "outputs": [
    {
     "name": "stderr",
     "output_type": "stream",
     "text": [
      "/srv/conda/envs/data100/lib/python3.6/site-packages/pandas/core/generic.py:4388: FutureWarning: Attribute 'is_copy' is deprecated and will be removed in a future version.\n",
      "  object.__getattribute__(self, name)\n",
      "/srv/conda/envs/data100/lib/python3.6/site-packages/pandas/core/generic.py:4389: FutureWarning: Attribute 'is_copy' is deprecated and will be removed in a future version.\n",
      "  return object.__setattr__(self, name, value)\n"
     ]
    },
    {
     "data": {
      "text/html": [
       "<div>\n",
       "<style scoped>\n",
       "    .dataframe tbody tr th:only-of-type {\n",
       "        vertical-align: middle;\n",
       "    }\n",
       "\n",
       "    .dataframe tbody tr th {\n",
       "        vertical-align: top;\n",
       "    }\n",
       "\n",
       "    .dataframe thead th {\n",
       "        text-align: right;\n",
       "    }\n",
       "</style>\n",
       "<table border=\"1\" class=\"dataframe\">\n",
       "  <thead>\n",
       "    <tr style=\"text-align: right;\">\n",
       "      <th></th>\n",
       "      <th>pickup_longitude</th>\n",
       "      <th>pickup_latitude</th>\n",
       "      <th>dropoff_longitude</th>\n",
       "      <th>dropoff_latitude</th>\n",
       "      <th>manhattan</th>\n",
       "    </tr>\n",
       "  </thead>\n",
       "  <tbody>\n",
       "    <tr>\n",
       "      <th>count</th>\n",
       "      <td>13774.000000</td>\n",
       "      <td>13774.000000</td>\n",
       "      <td>13774.000000</td>\n",
       "      <td>13774.000000</td>\n",
       "      <td>13774.000000</td>\n",
       "    </tr>\n",
       "    <tr>\n",
       "      <th>mean</th>\n",
       "      <td>-72.953619</td>\n",
       "      <td>40.187999</td>\n",
       "      <td>-73.055577</td>\n",
       "      <td>40.245056</td>\n",
       "      <td>52.430347</td>\n",
       "    </tr>\n",
       "    <tr>\n",
       "      <th>std</th>\n",
       "      <td>8.628431</td>\n",
       "      <td>4.753186</td>\n",
       "      <td>8.191366</td>\n",
       "      <td>4.512564</td>\n",
       "      <td>761.698735</td>\n",
       "    </tr>\n",
       "    <tr>\n",
       "      <th>min</th>\n",
       "      <td>-77.039436</td>\n",
       "      <td>0.000000</td>\n",
       "      <td>-77.039436</td>\n",
       "      <td>0.000000</td>\n",
       "      <td>0.000000</td>\n",
       "    </tr>\n",
       "    <tr>\n",
       "      <th>25%</th>\n",
       "      <td>-73.992058</td>\n",
       "      <td>40.735166</td>\n",
       "      <td>-73.991318</td>\n",
       "      <td>40.734002</td>\n",
       "      <td>1.533046</td>\n",
       "    </tr>\n",
       "    <tr>\n",
       "      <th>50%</th>\n",
       "      <td>-73.981846</td>\n",
       "      <td>40.752432</td>\n",
       "      <td>-73.979897</td>\n",
       "      <td>40.753263</td>\n",
       "      <td>2.669716</td>\n",
       "    </tr>\n",
       "    <tr>\n",
       "      <th>75%</th>\n",
       "      <td>-73.967119</td>\n",
       "      <td>40.767264</td>\n",
       "      <td>-73.962749</td>\n",
       "      <td>40.768455</td>\n",
       "      <td>5.002427</td>\n",
       "    </tr>\n",
       "    <tr>\n",
       "      <th>max</th>\n",
       "      <td>0.000000</td>\n",
       "      <td>40.868210</td>\n",
       "      <td>0.000000</td>\n",
       "      <td>41.540859</td>\n",
       "      <td>12760.695661</td>\n",
       "    </tr>\n",
       "  </tbody>\n",
       "</table>\n",
       "</div>"
      ],
      "text/plain": [
       "       pickup_longitude  pickup_latitude  dropoff_longitude  dropoff_latitude  \\\n",
       "count      13774.000000     13774.000000       13774.000000      13774.000000   \n",
       "mean         -72.953619        40.187999         -73.055577         40.245056   \n",
       "std            8.628431         4.753186           8.191366          4.512564   \n",
       "min          -77.039436         0.000000         -77.039436          0.000000   \n",
       "25%          -73.992058        40.735166         -73.991318         40.734002   \n",
       "50%          -73.981846        40.752432         -73.979897         40.753263   \n",
       "75%          -73.967119        40.767264         -73.962749         40.768455   \n",
       "max            0.000000        40.868210           0.000000         41.540859   \n",
       "\n",
       "          manhattan  \n",
       "count  13774.000000  \n",
       "mean      52.430347  \n",
       "std      761.698735  \n",
       "min        0.000000  \n",
       "25%        1.533046  \n",
       "50%        2.669716  \n",
       "75%        5.002427  \n",
       "max    12760.695661  "
      ]
     },
     "execution_count": 10,
     "metadata": {},
     "output_type": "execute_result"
    }
   ],
   "source": [
    "X_test,y_test = process_data_gm1(test_df, test=True)\n",
    "X_test.describe()"
   ]
  },
  {
   "cell_type": "markdown",
   "metadata": {
    "deletable": false,
    "editable": false,
    "nbgrader": {
     "cell_type": "markdown",
     "checksum": "3d0851ad6ebfe354bc264fccdd8e4e9c",
     "grade": false,
     "grade_id": "cell-8ce124a1c3d16212",
     "locked": true,
     "schema_version": 2,
     "solution": false
    }
   },
   "source": [
    "Here, `y_val` are the correct durations for each ride, and `y_val_pred` are the predicted durations based on the 7 features above (`vendorID`, `passenger_count`, `pickup_longitude`, `pickup_latitude`, `dropoff_longitude`, `dropoff_latitude`, `manhattan`)."
   ]
  },
  {
   "cell_type": "code",
   "execution_count": 11,
   "metadata": {
    "deletable": false,
    "editable": false,
    "nbgrader": {
     "cell_type": "code",
     "checksum": "59ab7ee7adf0293484323272fb8e17b1",
     "grade": false,
     "grade_id": "cell-b31246d46b057685",
     "locked": true,
     "schema_version": 2,
     "solution": false
    }
   },
   "outputs": [],
   "source": [
    "assert 600 <= np.median(y_train_pred) <= 700\n",
    "assert 600 <= np.median(y_val_pred) <= 700"
   ]
  },
  {
   "cell_type": "markdown",
   "metadata": {
    "deletable": false,
    "editable": false,
    "nbgrader": {
     "cell_type": "markdown",
     "checksum": "0ebbb5c8e162267992b70f5ef9062c8f",
     "grade": false,
     "grade_id": "cell-5ce43378a0326e03",
     "locked": true,
     "schema_version": 2,
     "solution": false
    }
   },
   "source": [
    "The resulting model really is a linear model just like we saw in class, i.e. the predictions are simply generated by the product $\\Phi\\theta$. For example, the line of code below generates a prediction for $x_1$ by computing $\\phi_1^T\\theta$. Here `guided_model_1.coef_` is $\\theta$ and `X_train.iloc[0, :]` is $\\phi_1$.\n",
    "\n",
    "Note that unlike in class, here the dummy intercept term is not included in $\\Phi$. "
   ]
  },
  {
   "cell_type": "code",
   "execution_count": 12,
   "metadata": {
    "deletable": false,
    "editable": false,
    "nbgrader": {
     "cell_type": "code",
     "checksum": "2fcabc64c7168c803a07cb4cf666932c",
     "grade": false,
     "grade_id": "cell-a486bf8f36567ef8",
     "locked": true,
     "schema_version": 2,
     "solution": false
    }
   },
   "outputs": [
    {
     "data": {
      "text/plain": [
       "558.751330511368"
      ]
     },
     "execution_count": 12,
     "metadata": {},
     "output_type": "execute_result"
    }
   ],
   "source": [
    "X_train.iloc[0, :].dot(guided_model_1.coef_) + guided_model_1.intercept_"
   ]
  },
  {
   "cell_type": "markdown",
   "metadata": {
    "deletable": false,
    "editable": false,
    "nbgrader": {
     "cell_type": "markdown",
     "checksum": "a97501529bf35475094c5e3fbc949ab6",
     "grade": false,
     "grade_id": "cell-49c8840a2ad44c8d",
     "locked": true,
     "schema_version": 2,
     "solution": false
    }
   },
   "source": [
    "We see that this prediction is exactly the same (except for possible floating point error) as generated by the `predict` function, which simply computes the product $\\Phi\\theta$, yielding predictions for every input."
   ]
  },
  {
   "cell_type": "code",
   "execution_count": 13,
   "metadata": {
    "deletable": false,
    "editable": false,
    "nbgrader": {
     "cell_type": "code",
     "checksum": "51bd36405dbe260228829a3f7c5b7eb1",
     "grade": false,
     "grade_id": "cell-8de12c4814aefa25",
     "locked": true,
     "schema_version": 2,
     "solution": false
    }
   },
   "outputs": [
    {
     "data": {
      "text/plain": [
       "558.75133051135344"
      ]
     },
     "execution_count": 13,
     "metadata": {},
     "output_type": "execute_result"
    }
   ],
   "source": [
    "y_train_pred[0]"
   ]
  },
  {
   "cell_type": "markdown",
   "metadata": {
    "deletable": false,
    "editable": false,
    "nbgrader": {
     "cell_type": "markdown",
     "checksum": "374f92feb628336ad31eba0c2b96892f",
     "grade": false,
     "grade_id": "cell-fd7b951877e62489",
     "locked": true,
     "schema_version": 2,
     "solution": false
    }
   },
   "source": [
    "In this assignment, we will use Mean Absolute Error (MAE), a.k.a. mean L1 loss, to measure the quality of our models.  As a reminder, this quantity is defined as:\n",
    "\n",
    "$$\n",
    "MAE =\\frac{1}{n}\\sum_{i}  | y_i -\\hat{y_i}|\n",
    "$$\n",
    "\n",
    "Why may we want to use the MAE as a metric, as opposed to Mean Squared Error (MSE)? Using our domain knowledge that most rides are short in duration (median is roughly 600 seconds), we know that MSE is susceptible to outliers. Given that some of the outliers in our dataset are quite extreme, it is probably better to optimize for the majority of rides rather than for the outliers. You may want to remove some of these outliers later on."
   ]
  },
  {
   "cell_type": "code",
   "execution_count": 14,
   "metadata": {
    "deletable": false,
    "editable": false,
    "nbgrader": {
     "cell_type": "code",
     "checksum": "16c1cda3d31d8c0545ba5620a9b335f1",
     "grade": false,
     "grade_id": "cell-a710fd055e77566a",
     "locked": true,
     "schema_version": 2,
     "solution": false
    }
   },
   "outputs": [],
   "source": [
    "def mae(actual, predicted):\n",
    "    \"\"\"\n",
    "    Calculates MAE from actual and predicted values\n",
    "    Input:\n",
    "      actual (1D array-like): vector of actual values\n",
    "      predicted (1D array-like): vector of predicted/fitted values\n",
    "    Output:\n",
    "      a float, the MAE\n",
    "    \"\"\"\n",
    "    \n",
    "    mae = np.mean(np.abs(actual - predicted))\n",
    "    return mae"
   ]
  },
  {
   "cell_type": "code",
   "execution_count": 15,
   "metadata": {
    "deletable": false,
    "editable": false,
    "nbgrader": {
     "cell_type": "code",
     "checksum": "214be12071732b41221bb4c61bcddf23",
     "grade": false,
     "grade_id": "cell-a00a472b680ffd30",
     "locked": true,
     "schema_version": 2,
     "solution": false
    }
   },
   "outputs": [
    {
     "name": "stdout",
     "output_type": "stream",
     "text": [
      "Validation Error:  266.136130855\n"
     ]
    }
   ],
   "source": [
    "assert 200 <= mae(y_val_pred, y_val) <= 300\n",
    "print(\"Validation Error: \", mae(y_val_pred, y_val))"
   ]
  },
  {
   "cell_type": "markdown",
   "metadata": {
    "deletable": false,
    "editable": false,
    "nbgrader": {
     "cell_type": "markdown",
     "checksum": "fb5134f9979778939d8b7e9a82bb041f",
     "grade": false,
     "grade_id": "cell-9b97bc51faaf9d24",
     "locked": true,
     "schema_version": 2,
     "solution": false
    }
   },
   "source": [
    "Side note: scikit-learn also has tools to compute mean absolute error (`sklearn.metrics.mean_absolute_error`). In fact, most metrics that we have discussed in this class can be found as part of the [`sklearn.metrics` module](https://scikit-learn.org/stable/modules/classes.html#sklearn-metrics-metrics). Some of these may come in handy as part of your feature engineering!"
   ]
  },
  {
   "cell_type": "markdown",
   "metadata": {
    "deletable": false,
    "editable": false,
    "nbgrader": {
     "cell_type": "markdown",
     "checksum": "aa1513d6f59c9048988eef956733ff01",
     "grade": false,
     "grade_id": "cell-02af4613f224d0b8",
     "locked": true,
     "schema_version": 2,
     "solution": false
    }
   },
   "source": [
    "## Visualizing Error\n",
    "You should be getting between 200 and 300 MAE, which means your model was off by roughly 3-5 minutes on trips of average length 12 minutes. This is fairly decent performance given that our basic model uses only using the pickup/dropoff latitude and manhattan distance of the trip. 3-5 minutes may seem like a lot for a trip of 12 minutes, but keep in mind that this is the *average* error. This metric is susceptible to extreme outliers, which exist in our dataset. \n",
    "\n",
    "Now we will visualize the residual for the validation set. We will plot the following:\n",
    "\n",
    "1. Distribution of residuals\n",
    "2. Average residual grouping by ride duration\n"
   ]
  },
  {
   "cell_type": "code",
   "execution_count": 16,
   "metadata": {
    "deletable": false,
    "editable": false,
    "nbgrader": {
     "cell_type": "code",
     "checksum": "77fbfc262742ead4fe263e61455005e0",
     "grade": false,
     "grade_id": "cell-f6e3b30f7693966b",
     "locked": true,
     "schema_version": 2,
     "solution": false
    }
   },
   "outputs": [
    {
     "data": {
      "image/png": "[encoded data removed]",
      "text/plain": [
       "<matplotlib.figure.Figure at 0x7f1b542cba20>"
      ]
     },
     "metadata": {},
     "output_type": "display_data"
    }
   ],
   "source": [
    "# Distribution of residuals\n",
    "plt.figure(figsize=(8,4))\n",
    "sns.distplot(np.abs(y_val - y_val_pred))\n",
    "plt.xlabel('residual')\n",
    "plt.title('distribution of residuals');"
   ]
  },
  {
   "cell_type": "code",
   "execution_count": 17,
   "metadata": {
    "deletable": false,
    "editable": false,
    "nbgrader": {
     "cell_type": "code",
     "checksum": "f4e55b8df4118d91fa9936ea851e7394",
     "grade": false,
     "grade_id": "cell-69e4e7c6638615ac",
     "locked": true,
     "schema_version": 2,
     "solution": false
    }
   },
   "outputs": [
    {
     "data": {
      "image/png": "[encoded data removed]",
      "text/plain": [
       "<matplotlib.figure.Figure at 0x7f1b18f3fdd8>"
      ]
     },
     "metadata": {},
     "output_type": "display_data"
    }
   ],
   "source": [
    "# Average residual grouping by ride duration\n",
    "val_residual = X_val.copy()\n",
    "val_residual['duration'] = y_val\n",
    "val_residual['rounded_duration'] = np.around(y_val, -2)\n",
    "val_residual['residual'] = np.abs(y_val - y_val_pred)\n",
    "tmp = val_residual.groupby('rounded_duration').mean()\n",
    "plt.figure(figsize=(8,4))\n",
    "tmp['residual'].plot()\n",
    "plt.ylabel('average residual')\n",
    "plt.title('average residual by ride duration');"
   ]
  },
  {
   "cell_type": "markdown",
   "metadata": {
    "deletable": false,
    "editable": false,
    "nbgrader": {
     "cell_type": "markdown",
     "checksum": "fd9ba9658ec2a2c66f73bd8431da529d",
     "grade": false,
     "grade_id": "cell-db93e20cec0d6aff",
     "locked": true,
     "schema_version": 2,
     "solution": false
    }
   },
   "source": [
    "In the first visualization, we see that most of the residuals are centered around 250 seconds ~ 4 minutes. There is a minor right tail, suggesting that we are still unable to accurately fit some outliers in our data. The second visualization also suggests this, as we see the average residual increasing as a somewhat linear function of duration. But given that our average ride duration is roughly 600-700 seconds, it seems that we are indeed optimizing for the average ride because the residuals are smallest around 600-700. \n",
    "\n",
    "Keep this in mind when creating your final model! Visualizing the error is a powerful tool and may help diagnose shortcomings of your model. Let's go ahead and submit to kaggle, although your error on the test set may be higher than 300. "
   ]
  },
  {
   "cell_type": "markdown",
   "metadata": {
    "deletable": false,
    "editable": false,
    "nbgrader": {
     "cell_type": "markdown",
     "checksum": "1d0011fc6013000b34a6389a6da0a7e7",
     "grade": false,
     "grade_id": "cell-0398ecf597b3cf59",
     "locked": true,
     "schema_version": 2,
     "solution": false
    }
   },
   "source": [
    "# Submission to Kaggle\n",
    "\n",
    "The following code will write your predictions on the test dataset to a CSV, which you can submit to Kaggle. You may need to modify it to suit your needs, but we recommend you make a copy and preserve the original function.\n",
    "\n",
    "Remember that if you've performed transformations or featurization on the training data, you must also perform the same transformations on the test data in order to make predictions. For example, if you've created features for the columns `pickup_datetime` or `pickup_latitude` on the training data, you must also extract the same features in order to use scikit-learn's `.predict(...)` method."
   ]
  },
  {
   "cell_type": "code",
   "execution_count": 18,
   "metadata": {
    "deletable": false,
    "editable": false,
    "nbgrader": {
     "cell_type": "code",
     "checksum": "9949c57697286ad5f7b580802a414f7a",
     "grade": false,
     "grade_id": "cell-46e29e97c3760a86",
     "locked": true,
     "schema_version": 2,
     "solution": false
    }
   },
   "outputs": [],
   "source": [
    "from datetime import datetime\n",
    "def generate_submission(test, predictions, force=False):\n",
    "    if force:\n",
    "        if not os.path.isdir(\"submissions\"):\n",
    "            os.mkdir(\"submissions\")\n",
    "        submission_df = pd.DataFrame({\n",
    "            \"id\": test_df.index.values, \n",
    "            \"duration\": predictions,\n",
    "        },\n",
    "            columns=['id', 'duration'])\n",
    "\n",
    "        timestamp = datetime.isoformat(datetime.now()).split(\".\")[0]\n",
    "\n",
    "        submission_df.to_csv(f'submissions/submission_{timestamp}.csv', index=False)\n",
    "\n",
    "        print(f'Created a CSV file: submission_{timestamp}.csv')\n",
    "        print('You may now upload this CSV file to Kaggle for scoring.')"
   ]
  },
  {
   "cell_type": "code",
   "execution_count": 19,
   "metadata": {
    "deletable": false,
    "editable": false,
    "nbgrader": {
     "cell_type": "code",
     "checksum": "13d22ae35c56a9b1c0e4d11043809f48",
     "grade": false,
     "grade_id": "cell-1c77a057c8897ad5",
     "locked": true,
     "schema_version": 2,
     "solution": false
    }
   },
   "outputs": [
    {
     "name": "stderr",
     "output_type": "stream",
     "text": [
      "/srv/conda/envs/data100/lib/python3.6/site-packages/pandas/core/generic.py:4388: FutureWarning: Attribute 'is_copy' is deprecated and will be removed in a future version.\n",
      "  object.__getattribute__(self, name)\n",
      "/srv/conda/envs/data100/lib/python3.6/site-packages/pandas/core/generic.py:4389: FutureWarning: Attribute 'is_copy' is deprecated and will be removed in a future version.\n",
      "  return object.__setattr__(self, name, value)\n"
     ]
    }
   ],
   "source": [
    "X_test, _ = process_data_gm1(test_df, True)"
   ]
  },
  {
   "cell_type": "code",
   "execution_count": 20,
   "metadata": {
    "ExecuteTime": {
     "end_time": "2018-03-18T23:29:22.604349Z",
     "start_time": "2018-03-18T23:29:22.265985Z"
    },
    "deletable": false,
    "editable": false,
    "nbgrader": {
     "cell_type": "code",
     "checksum": "54cecf7cad6b2c9ed04fe0b5be3d8352",
     "grade": false,
     "grade_id": "cell-e4d56cb38e5d6ad5",
     "locked": true,
     "schema_version": 2,
     "solution": false
    }
   },
   "outputs": [
    {
     "name": "stdout",
     "output_type": "stream",
     "text": [
      "Created a CSV file: submission_2018-12-06T05:08:31.csv\n",
      "You may now upload this CSV file to Kaggle for scoring.\n"
     ]
    }
   ],
   "source": [
    "assert list(X_train.columns) == list(X_test.columns), \"Different columns or different column ordering\"\n",
    "submission_predictions = (guided_model_1\n",
    "                          .fit(X_train, y_train)\n",
    "                          .predict(X_test))\n",
    "submission_predictions = submission_predictions.astype(int)\n",
    "submission_predictions[submission_predictions < 0] = 0\n",
    "generate_submission(test_df, submission_predictions, True)"
   ]
  },
  {
   "cell_type": "code",
   "execution_count": 21,
   "metadata": {
    "deletable": false,
    "editable": false,
    "nbgrader": {
     "cell_type": "code",
     "checksum": "f98988d31cf004d076a6f8bb0f4500b1",
     "grade": false,
     "grade_id": "cell-7e4fef935fcd3d1f",
     "locked": true,
     "schema_version": 2,
     "solution": false
    }
   },
   "outputs": [],
   "source": [
    "# Check your submission\n",
    "assert isinstance(submission_predictions, np.ndarray), \"Submission not an array\"\n",
    "assert all(submission_predictions >= 0), \"Duration must be non-negative\"\n",
    "assert issubclass(submission_predictions.dtype.type, np.integer), \"Seconds must be integers\""
   ]
  },
  {
   "cell_type": "markdown",
   "metadata": {
    "deletable": false,
    "editable": false,
    "nbgrader": {
     "cell_type": "markdown",
     "checksum": "7b706de962b9eb645e07d5f45859da6d",
     "grade": false,
     "grade_id": "cell-841ea29e54b5d9b2",
     "locked": true,
     "schema_version": 2,
     "solution": false
    }
   },
   "source": [
    "## Your Turn!\n",
    "\n",
    "Now it's your turn! Draw upon everything you have learned this semester to find the best features to help your model accurately predict the duration of a taxi ride.\n",
    "\n",
    "You may use whatever method you prefer in order to create features. You may use features that we created and features that you discovered yourself from any of the 2 datasets. However, we want to make it fair to students who are seeing these techniques for the first time. As such, you are only allowed regression models and their regularized forms. This means no random forest, k-nearest-neighbors, neural nets, etc.\n",
    "\n",
    "**Here are some ideas to improve your model:**\n",
    "- **Data selection**: January 2016 was an odd month for taxi rides due to the blizzard. Would it help to select training data differently?\n",
    "- **Data cleaning**: Try cleaning your data in different ways. In particular, consider how to handle outliers. \n",
    "- **Better features**: Explore the 2 datasets and find what features are most helpful. Utilize external datasets to improve your accuracy. \n",
    "- **Regularization**: Try different forms of regularization to avoid fitting to the training set. Recall that `Ridge` and `Lasso` are the names of the classes in `sklearn.linear_model` that combine `LinearRegression` with regularization techniques.\n",
    "- **Model selection**: You can adjust parameters of your model (e.g., the regularization parameter) to achieve higher accuracy. [GridSearchCV](http://scikit-learn.org/stable/modules/generated/sklearn.model_selection.GridSearchCV.html) may be helpful.\n",
    "- **Validation**: Recall that you should use cross-validation to do feature and model selection properly! Otherwise, you will likely overfit to your training data.\n",
    "\n",
    "There's many things you could try that could help your model. We have only suggested a few. Be creative and innovative! Please use `proj2_extras.ipynb` for all of your extraneous work. Note that you will be submitting `proj2_extras.ipynb` and we will be grading it. Please properly comment and format this notebook!\n",
    "\n",
    "Once you are satisfied with your results, answer the questions in the Deliverables section. You may want to read this section in advance so you have an idea of what we're looking for."
   ]
  },
  {
   "cell_type": "markdown",
   "metadata": {
    "deletable": false,
    "editable": false,
    "nbgrader": {
     "cell_type": "markdown",
     "checksum": "090b00051aeacddcf11d16d2ba092461",
     "grade": false,
     "grade_id": "cell-926dd79601c9e5bc",
     "locked": true,
     "schema_version": 2,
     "solution": false
    }
   },
   "source": [
    "## Deliverables"
   ]
  },
  {
   "cell_type": "markdown",
   "metadata": {
    "deletable": false,
    "editable": false,
    "nbgrader": {
     "cell_type": "markdown",
     "checksum": "3f4b4ba48b89bfe6f79cb734e9af2d10",
     "grade": false,
     "grade_id": "cell-28fcb99d211b6d14",
     "locked": true,
     "schema_version": 2,
     "solution": false
    }
   },
   "source": [
    "## Feature/Model Selection Process\n",
    "\n",
    "Let's first look at selection of better features. In this following cell, describe the process of choosing good features to improve your model. You should use at least 3-4 sentences each to address the follow questions. Backup your responses with graphs supporting your claim (you can save figures and load them, no need to add the plotting code here). Use these questions to concisely summarize all of your extra work!"
   ]
  },
  {
   "cell_type": "markdown",
   "metadata": {
    "deletable": false,
    "editable": false,
    "nbgrader": {
     "cell_type": "markdown",
     "checksum": "48a09f77cc60e445e2669a5658cfa095",
     "grade": false,
     "grade_id": "q1a",
     "locked": true,
     "schema_version": 2,
     "solution": false
    }
   },
   "source": [
    "### Question 1a\n",
    "How did you find better features for your model?"
   ]
  },
  {
   "cell_type": "code",
   "execution_count": 22,
   "metadata": {
    "deletable": false,
    "nbgrader": {
     "cell_type": "code",
     "checksum": "712e610263e57c35f71044e0e912da5c",
     "grade": true,
     "grade_id": "q1a-answer",
     "locked": false,
     "points": 5,
     "schema_version": 2,
     "solution": true
    }
   },
   "outputs": [
    {
     "name": "stdout",
     "output_type": "stream",
     "text": [
      "\n",
      "\n",
      "I repeated the steps we used in parts 1-3 to add features to my training and validation set. I thought intuitively it made sense that there would be a relationship between the amount someone pays for a ride and the time they spend in a taxi so I included that as well. After that, I included the different distance calcualtions and bearing angle. Those features were good enough to make an accurate model. Additionally, I plotted features like trip_distance to see if there was a log-normal relationship with duration. That let me know that it might be an effective feature. \n",
      "\n",
      "\n"
     ]
    }
   ],
   "source": [
    "q1a_answer = r\"\"\"\n",
    "\n",
    "I repeated the steps we used in parts 1-3 to add features to my training and validation set. I thought intuitively it made sense that there would be a relationship between the amount someone pays for a ride and the time they spend in a taxi so I included that as well. After that, I included the different distance calcualtions and bearing angle. Those features were good enough to make an accurate model. Additionally, I plotted features like trip_distance to see if there was a log-normal relationship with duration. That let me know that it might be an effective feature. \n",
    "\n",
    "\"\"\"\n",
    "# YOUR CODE HERE\n",
    "# raise NotImplementedError()\n",
    "print(q1a_answer)"
   ]
  },
  {
   "cell_type": "code",
   "execution_count": 23,
   "metadata": {},
   "outputs": [
    {
     "data": {
      "image/png": "[encoded data removed]",
      "text/plain": [
       "<matplotlib.figure.Figure at 0x7f1b18041860>"
      ]
     },
     "metadata": {},
     "output_type": "display_data"
    }
   ],
   "source": [
    "fig, ax = plt.subplots(figsize=(9, 9))\n",
    "sns.distplot(np.log(train_df['trip_distance'] + 1),\n",
    "             ax=ax,\n",
    "             axlabel='log(duration)',\n",
    "             kde=False)\n",
    "\n",
    "plt.title('log(duration) distribution');"
   ]
  },
  {
   "cell_type": "markdown",
   "metadata": {
    "deletable": false,
    "editable": false,
    "nbgrader": {
     "cell_type": "markdown",
     "checksum": "463df11915ead370c4422b93d45468f1",
     "grade": false,
     "grade_id": "q1b",
     "locked": true,
     "schema_version": 2,
     "solution": false
    }
   },
   "source": [
    "### Question 1b\n",
    "What did you try that worked / didn't work?"
   ]
  },
  {
   "cell_type": "code",
   "execution_count": 24,
   "metadata": {
    "deletable": false,
    "nbgrader": {
     "cell_type": "code",
     "checksum": "fcb1a0cda1cd4569c4ed1fef85728082",
     "grade": true,
     "grade_id": "q1b-answer",
     "locked": false,
     "points": 5,
     "schema_version": 2,
     "solution": true
    }
   },
   "outputs": [
    {
     "name": "stdout",
     "output_type": "stream",
     "text": [
      "\n",
      "\n",
      "Spatial and temporal features were very effective in making my model work. Specifically, longitude/latitudes, trip distance, month, year, week, day, and hour is what I included as my temporal/spatial features. I tried to merge the collisions dataset include features about accidents in the area. This approach ate up all my memory so I went with a more efficient approach. I also thought including speed features using the clustering approach described in part 2 but decided against it as well. I also removed features like recordID, vendorID, and ratecodeID. I found that including these features increased my error. As you can see, we can not discern an association between these variables and duration.\n",
      "\n",
      "\n"
     ]
    }
   ],
   "source": [
    "q1b_answer = r\"\"\"\n",
    "\n",
    "Spatial and temporal features were very effective in making my model work. Specifically, longitude/latitudes, trip distance, month, year, week, day, and hour is what I included as my temporal/spatial features. I tried to merge the collisions dataset include features about accidents in the area. This approach ate up all my memory so I went with a more efficient approach. I also thought including speed features using the clustering approach described in part 2 but decided against it as well. I also removed features like recordID, vendorID, and ratecodeID. I found that including these features increased my error. As you can see, we can not discern an association between these variables and duration.\n",
    "\n",
    "\"\"\"\n",
    "# YOUR CODE HERE\n",
    "# raise NotImplementedError()\n",
    "print(q1b_answer)"
   ]
  },
  {
   "cell_type": "code",
   "execution_count": 25,
   "metadata": {},
   "outputs": [
    {
     "data": {
      "image/png": "[encoded data removed]",
      "text/plain": [
       "<matplotlib.figure.Figure at 0x7f1b1807bd68>"
      ]
     },
     "metadata": {},
     "output_type": "display_data"
    }
   ],
   "source": [
    "fig, ax = plt.subplots(figsize=(9, 9))\n",
    "sns.scatterplot(x = 'record_id', y = 'duration', data = train_df)\n",
    "\n",
    "plt.title('record_id vs duration');"
   ]
  },
  {
   "cell_type": "markdown",
   "metadata": {
    "deletable": false,
    "editable": false,
    "nbgrader": {
     "cell_type": "markdown",
     "checksum": "6a071fab3049c2dcab9592a614b87439",
     "grade": false,
     "grade_id": "q1c",
     "locked": true,
     "schema_version": 2,
     "solution": false
    }
   },
   "source": [
    "### Question 1c\n",
    "\n",
    "What was surprising in your search for good features?"
   ]
  },
  {
   "cell_type": "code",
   "execution_count": 26,
   "metadata": {
    "deletable": false,
    "nbgrader": {
     "cell_type": "code",
     "checksum": "bf93f09066047a3039e2f0d144720d19",
     "grade": true,
     "grade_id": "q1c-answer",
     "locked": false,
     "points": 5,
     "schema_version": 2,
     "solution": true
    }
   },
   "outputs": [
    {
     "name": "stdout",
     "output_type": "stream",
     "text": [
      "\n",
      "\n",
      "Generally, I was not surprised in my search for good features. Parts 1-3 were constructed well and we had to create visualizations so they prepared me for the intuition for finding good features for my own model. However, tip_amount was a feature that I didn't think would improve my score but it actually did. Its distribution is not log normal in relation to duration, but somehow it still made a positive impact.\n",
      "\n",
      "\n"
     ]
    }
   ],
   "source": [
    "q1c_answer = r\"\"\"\n",
    "\n",
    "Generally, I was not surprised in my search for good features. Parts 1-3 were constructed well and we had to create visualizations so they prepared me for the intuition for finding good features for my own model. However, tip_amount was a feature that I didn't think would improve my score but it actually did. Its distribution is not log normal in relation to duration, but somehow it still made a positive impact.\n",
    "\n",
    "\"\"\"\n",
    "# YOUR CODE HERE\n",
    "# raise NotImplementedError()\n",
    "print(q1c_answer)"
   ]
  },
  {
   "cell_type": "code",
   "execution_count": 27,
   "metadata": {},
   "outputs": [
    {
     "data": {
      "image/png": "[encoded data removed]",
      "text/plain": [
       "<matplotlib.figure.Figure at 0x7f1b0a9bb1d0>"
      ]
     },
     "metadata": {},
     "output_type": "display_data"
    }
   ],
   "source": [
    "fig, ax = plt.subplots(figsize=(9, 9))\n",
    "sns.distplot(train_df['tip_amount'],\n",
    "             ax=ax,\n",
    "             axlabel='log(duration)',\n",
    "             kde=False)\n",
    "\n",
    "plt.title('log(trip_distance) distribution');"
   ]
  },
  {
   "cell_type": "markdown",
   "metadata": {
    "deletable": false,
    "editable": false,
    "nbgrader": {
     "cell_type": "markdown",
     "checksum": "172960adce9522c39f3b2ddfd0dc0fa8",
     "grade": false,
     "grade_id": "q2",
     "locked": true,
     "schema_version": 2,
     "solution": false
    }
   },
   "source": [
    "### Question 2\n",
    "\n",
    "Just as in the guided model above, you should encapsulate as much of your workflow into functions as possible.  Define `process_data_fm` and `final model` in the cell below.  In order to calculate your final model's MAE, we will run the code in the cell after that.\n",
    "\n",
    "**Note:** You *MUST* name the model you wish to be evaluated on `final_model`. This is what we will be using to generate your predictions. We will take the state of `final_model` right after executing the cell below and run the following code:\n",
    "\n",
    "```\n",
    "# Load in test_df, solutions\n",
    "X_test, _ = process_data_fm(test_df, True)\n",
    "submission_predictions = final_model.predict(X_test)\n",
    "# Generate score for autograding\n",
    "```\n",
    "\n",
    "We encourage you to conduct all of your exploratory work in `proj2_extras.ipynb`, which will be graded for 10 points."
   ]
  },
  {
   "cell_type": "code",
   "execution_count": 28,
   "metadata": {},
   "outputs": [
    {
     "name": "stdout",
     "output_type": "stream",
     "text": [
      "-rw-r--r-- 1 root root 2.1G Nov  7 04:43 /srv/db/taxi_2016_student_small.sqlite\n",
      "Table taxi has 15000000 rows!\n",
      "1.03 s elapsed\n",
      "2.75 s elapsed\n"
     ]
    }
   ],
   "source": [
    "import os\n",
    "import pandas as pd\n",
    "import numpy as np\n",
    "import sklearn.linear_model as lm\n",
    "import matplotlib.pyplot as plt\n",
    "import seaborn as sns\n",
    "from pathlib import Path\n",
    "from sqlalchemy import create_engine\n",
    "import zipfile\n",
    "from sklearn.model_selection import cross_val_score, train_test_split, GridSearchCV\n",
    "from utils import timeit\n",
    "\n",
    "sns.set(style=\"whitegrid\", palette=\"muted\")\n",
    "\n",
    "plt.rcParams['figure.figsize'] = (12, 9)\n",
    "plt.rcParams['font.size'] = 12\n",
    "\n",
    "%matplotlib inline\n",
    "\n",
    "# Loading Part 1\n",
    "\n",
    "!ls -lh /srv/db/taxi_2016_student_small.sqlite\n",
    "\n",
    "DB_URI = \"sqlite:////srv/db/taxi_2016_student_small.sqlite\"\n",
    "TABLE_NAME = \"taxi\"\n",
    "\n",
    "sql_engine = create_engine(DB_URI)\n",
    "with timeit():\n",
    "    print(f\"Table {TABLE_NAME} has {sql_engine.execute(f'SELECT COUNT(*) FROM {TABLE_NAME}').first()[0]} rows!\")\n",
    "    \n",
    "# Using month of April as training set \n",
    "\n",
    "q1d_query = f\"\"\"\n",
    "            SELECT * \n",
    "            FROM taxi\n",
    "            WHERE tpep_pickup_datetime\n",
    "                BETWEEN '2016-04-01' AND '2016-05-01'\n",
    "                AND record_id % 100 == 0\n",
    "            ORDER BY tpep_pickup_datetime\n",
    "            \"\"\"\n",
    "\n",
    "# YOUR CODE HERE\n",
    "# raise NotImplementedError()\n",
    "with timeit(): # This query should take less than 3 second\n",
    "    apr_16 = pd.read_sql_query(q1d_query, sql_engine)\n",
    "apr_16['tpep_dropoff_datetime'] = pd.to_datetime(apr_16[\"tpep_dropoff_datetime\"])\n",
    "apr_16['tpep_pickup_datetime'] = pd.to_datetime(apr_16[\"tpep_pickup_datetime\"])"
   ]
  },
  {
   "cell_type": "code",
   "execution_count": 29,
   "metadata": {
    "deletable": false,
    "nbgrader": {
     "cell_type": "code",
     "checksum": "f3ae9325e11ddba52eb687f02c23916f",
     "grade": true,
     "grade_id": "q2-answer",
     "locked": false,
     "points": 5,
     "schema_version": 2,
     "solution": true
    }
   },
   "outputs": [
    {
     "name": "stderr",
     "output_type": "stream",
     "text": [
      "/srv/conda/envs/data100/lib/python3.6/site-packages/pandas/core/generic.py:4388: FutureWarning: Attribute 'is_copy' is deprecated and will be removed in a future version.\n",
      "  object.__getattribute__(self, name)\n",
      "/srv/conda/envs/data100/lib/python3.6/site-packages/pandas/core/generic.py:4389: FutureWarning: Attribute 'is_copy' is deprecated and will be removed in a future version.\n",
      "  return object.__setattr__(self, name, value)\n"
     ]
    }
   ],
   "source": [
    "## Cleaning\n",
    "cleaned_apr_16 = apr_16.copy()\n",
    "\n",
    "# limiting rides < 0.5 day\n",
    "\n",
    "cleaned_apr_16['duration'] = cleaned_apr_16[\"tpep_dropoff_datetime\"]-cleaned_apr_16[\"tpep_pickup_datetime\"]\n",
    "cleaned_apr_16['duration'] = cleaned_apr_16['duration'].dt.total_seconds()\n",
    "cleaned_apr_16 = cleaned_apr_16[cleaned_apr_16['duration'] < 12 * 3600]\n",
    "\n",
    "# limiting to rides in NYC\n",
    "\n",
    "cleaned_apr_16 = cleaned_apr_16[cleaned_apr_16['pickup_longitude'] <= -73.75]\n",
    "cleaned_apr_16 = cleaned_apr_16[cleaned_apr_16['pickup_longitude'] >= -74.03]\n",
    "cleaned_apr_16 = cleaned_apr_16[cleaned_apr_16['pickup_latitude'] <= 40.85]\n",
    "cleaned_apr_16 = cleaned_apr_16[cleaned_apr_16['pickup_latitude'] >= 40.63]\n",
    "cleaned_apr_16 = cleaned_apr_16[cleaned_apr_16['dropoff_longitude'] <= -73.75]\n",
    "cleaned_apr_16 = cleaned_apr_16[cleaned_apr_16['dropoff_longitude'] >= -74.03]\n",
    "cleaned_apr_16 = cleaned_apr_16[cleaned_apr_16['dropoff_latitude'] <= 40.85]\n",
    "cleaned_apr_16 = cleaned_apr_16[cleaned_apr_16['dropoff_latitude'] >= 40.63]\n",
    "\n",
    "# limiting to rides with > 0 passengers\n",
    "\n",
    "cleaned_apr_16 = cleaned_apr_16[cleaned_apr_16['passenger_count'] > 0]\n",
    "\n",
    "## Adding Temporal Features\n",
    "\n",
    "def add_time_columns(df):\n",
    "    \"\"\"\n",
    "    Add temporal features to df\n",
    "    \"\"\"\n",
    "    df.is_copy = False \n",
    "    df.loc[:, 'month'] = df['tpep_pickup_datetime'].dt.month\n",
    "    df.loc[:, 'week_of_year'] = df['tpep_pickup_datetime'].dt.weekofyear\n",
    "    df.loc[:, 'day_of_month'] = df['tpep_pickup_datetime'].dt.day\n",
    "    df.loc[:, 'day_of_week'] = df['tpep_pickup_datetime'].dt.dayofweek\n",
    "    df.loc[:, 'hour'] = df['tpep_pickup_datetime'].dt.hour\n",
    "    df.loc[:, 'week_hour'] = df['tpep_pickup_datetime'].dt.weekday * 24 + df['hour']\n",
    " \n",
    "    # No real need to return here, but we harmonize with remove_outliers for later pipelinezation\n",
    "    return df\n",
    "\n",
    "short_rides = cleaned_apr_16[cleaned_apr_16[\"duration\"] <= 900] # rides less than or equal to 15 mins\n",
    "long_rides = cleaned_apr_16[cleaned_apr_16[\"duration\"] > 900] # rides more than 15 minutes\n",
    "\n",
    "cleaned_apr_16 = add_time_columns(cleaned_apr_16)\n",
    "short_rides = add_time_columns(short_rides)\n",
    "long_rides = add_time_columns(long_rides)"
   ]
  },
  {
   "cell_type": "code",
   "execution_count": 30,
   "metadata": {},
   "outputs": [
    {
     "name": "stderr",
     "output_type": "stream",
     "text": [
      "/srv/conda/envs/data100/lib/python3.6/site-packages/pandas/core/generic.py:4388: FutureWarning: Attribute 'is_copy' is deprecated and will be removed in a future version.\n",
      "  object.__getattribute__(self, name)\n",
      "/srv/conda/envs/data100/lib/python3.6/site-packages/pandas/core/generic.py:4389: FutureWarning: Attribute 'is_copy' is deprecated and will be removed in a future version.\n",
      "  return object.__setattr__(self, name, value)\n"
     ]
    }
   ],
   "source": [
    "## Adding distance features\n",
    "\n",
    "# These functions are implemented for you\n",
    "\n",
    "# Copied from part 2\n",
    "def haversine(lat1, lng1, lat2, lng2):\n",
    "    \"\"\"\n",
    "    Compute haversine distance\n",
    "    \"\"\"\n",
    "    lat1, lng1, lat2, lng2 = map(np.radians, (lat1, lng1, lat2, lng2))\n",
    "    average_earth_radius = 6371\n",
    "    lat = lat2 - lat1\n",
    "    lng = lng2 - lng1\n",
    "    d = np.sin(lat * 0.5) ** 2 + np.cos(lat1) * np.cos(lat2) * np.sin(lng * 0.5) ** 2\n",
    "    h = 2 * average_earth_radius * np.arcsin(np.sqrt(d))\n",
    "    return h\n",
    "\n",
    "# Copied from part 2\n",
    "def manhattan_distance(lat1, lng1, lat2, lng2):\n",
    "    \"\"\"\n",
    "    Compute Manhattan distance\n",
    "    \"\"\"\n",
    "    a = haversine(lat1, lng1, lat1, lng2)\n",
    "    b = haversine(lat1, lng1, lat2, lng1)\n",
    "    return a + b\n",
    "\n",
    "# Copied from part 2\n",
    "def bearing(lat1, lng1, lat2, lng2):\n",
    "    \"\"\"\n",
    "    Compute the bearing, or angle, from (lat1, lng1) to (lat2, lng2).\n",
    "    A bearing of 0 refers to a NORTH orientation.\n",
    "    \"\"\"\n",
    "    lng_delta_rad = np.radians(lng2 - lng1)\n",
    "    lat1, lng1, lat2, lng2 = map(np.radians, (lat1, lng1, lat2, lng2))\n",
    "    y = np.sin(lng_delta_rad) * np.cos(lat2)\n",
    "    x = np.cos(lat1) * np.sin(lat2) - np.sin(lat1) * np.cos(lat2) * np.cos(lng_delta_rad)\n",
    "    return np.degrees(np.arctan2(y, x))\n",
    "\n",
    "# Copied from part 2\n",
    "def add_time_columns(df):\n",
    "    \"\"\"\n",
    "    Add temporal features to df\n",
    "    \"\"\"\n",
    "    df.is_copy = False # propogate write to original dataframe\n",
    "    df.loc[:, 'month'] = df['tpep_pickup_datetime'].dt.month\n",
    "    df.loc[:, 'week_of_year'] = df['tpep_pickup_datetime'].dt.weekofyear\n",
    "    df.loc[:, 'day_of_month'] = df['tpep_pickup_datetime'].dt.day\n",
    "    df.loc[:, 'day_of_week'] = df['tpep_pickup_datetime'].dt.dayofweek\n",
    "    df.loc[:, 'hour'] = df['tpep_pickup_datetime'].dt.hour\n",
    "    df.loc[:, 'week_hour'] = df['tpep_pickup_datetime'].dt.weekday * 24 + df['hour']\n",
    "    return df\n",
    "\n",
    "# Copied from part 2\n",
    "def add_distance_columns(df):\n",
    "    \"\"\"\n",
    "    Add distance features to df\n",
    "    \"\"\"\n",
    "    df.is_copy = False # propogate write to original dataframe\n",
    "    df.loc[:, 'manhattan'] = manhattan_distance(lat1=df['pickup_latitude'],\n",
    "                                                lng1=df['pickup_longitude'],\n",
    "                                                lat2=df['dropoff_latitude'],\n",
    "                                                lng2=df['dropoff_longitude'])\n",
    "\n",
    "    df.loc[:, 'bearing'] = bearing(lat1=df['pickup_latitude'],\n",
    "                                   lng1=df['pickup_longitude'],\n",
    "                                   lat2=df['dropoff_latitude'],\n",
    "                                   lng2=df['dropoff_longitude'])\n",
    "    df.loc[:, 'haversine'] = haversine(lat1=df['pickup_latitude'],\n",
    "                                   lng1=df['pickup_longitude'],\n",
    "                                   lat2=df['dropoff_latitude'],\n",
    "                                   lng2=df['dropoff_longitude'])\n",
    "    return df\n",
    "\n",
    "def select_columns(data, *columns):\n",
    "    return data.loc[:, columns]\n",
    "\n",
    "cleaned_apr_16 = add_distance_columns(cleaned_apr_16)\n",
    "short_rides = add_distance_columns(short_rides)\n",
    "long_rides = add_distance_columns(long_rides)\n",
    "\n",
    "# calculating mae\n",
    "def mae(actual, predicted):\n",
    "    \"\"\"\n",
    "    Calculates MAE from actual and predicted values\n",
    "    Input:\n",
    "      actual (1D array-like): vector of actual values\n",
    "      predicted (1D array-like): vector of predicted/fitted values\n",
    "    Output:\n",
    "      a float, the MAE\n",
    "    \"\"\"\n",
    "    \n",
    "    mae = np.mean(np.abs(actual - predicted))\n",
    "    return mae"
   ]
  },
  {
   "cell_type": "code",
   "execution_count": 31,
   "metadata": {},
   "outputs": [],
   "source": [
    "# testing guided model\n",
    "\n",
    "# Run this cell to load the data. \n",
    "data_file = Path(\"./\", \"cleaned_data.hdf\")\n",
    "train_df = pd.read_hdf(data_file, \"train\")\n",
    "val_df = pd.read_hdf(data_file, \"val\")\n",
    "test_df = pd.read_csv(\"./proj2_test_data.csv\")\n",
    "test_df['tpep_pickup_datetime'] = pd.to_datetime(test_df['tpep_pickup_datetime'])\n",
    "\n",
    "\n",
    "# processing data for cleaned_apr_16\n",
    "def process_data_fm(data, test=False):\n",
    "    X = (\n",
    "        data\n",
    "        \n",
    "        # Transform data\n",
    "        .pipe(add_time_columns)\n",
    "        .pipe(add_distance_columns)\n",
    "        \n",
    "        .pipe(select_columns,        \n",
    "              'pickup_longitude',  \n",
    "              'pickup_latitude',   \n",
    "              'dropoff_longitude', \n",
    "              'dropoff_latitude',\n",
    "              'trip_distance',\n",
    "              'manhattan',\n",
    "              'fare_amount',\n",
    "              'mta_tax',\n",
    "              'tip_amount',\n",
    "              'tolls_amount',\n",
    "              'improvement_surcharge',\n",
    "              'total_amount',\n",
    "              'month',\n",
    "              'week_of_year',\n",
    "              'day_of_month',\n",
    "              'day_of_week',\n",
    "              'hour',\n",
    "              'week_hour',\n",
    "              'bearing',\n",
    "              'haversine'\n",
    "             )\n",
    "    )\n",
    "    if test:\n",
    "        y = None\n",
    "    else:\n",
    "        y = data['duration']\n",
    "        \n",
    "    return X, y"
   ]
  },
  {
   "cell_type": "code",
   "execution_count": 32,
   "metadata": {},
   "outputs": [
    {
     "name": "stderr",
     "output_type": "stream",
     "text": [
      "/srv/conda/envs/data100/lib/python3.6/site-packages/pandas/core/generic.py:4388: FutureWarning: Attribute 'is_copy' is deprecated and will be removed in a future version.\n",
      "  object.__getattribute__(self, name)\n",
      "/srv/conda/envs/data100/lib/python3.6/site-packages/pandas/core/generic.py:4389: FutureWarning: Attribute 'is_copy' is deprecated and will be removed in a future version.\n",
      "  return object.__setattr__(self, name, value)\n"
     ]
    }
   ],
   "source": [
    "# Do test train split on cleaned_apr_16\n",
    "from sklearn.model_selection import train_test_split\n",
    "train_df, val_df = train_test_split(cleaned_apr_16, test_size=0.2, random_state=42)\n",
    "\n",
    "# Train and Predict Model\n",
    "\n",
    "X_train, y_train = process_data_fm(train_df)\n",
    "X_val, y_val = process_data_fm(val_df)\n",
    "final_model = lm.LinearRegression(fit_intercept=True)\n",
    "final_model.fit(X_train, y_train)\n",
    "\n",
    "# Predict\n",
    "y_train_pred = final_model.predict(X_train)\n",
    "y_val_pred = final_model.predict(X_val)\n",
    "\n",
    "X_test,y_test = process_data_fm(test_df, test=True)\n"
   ]
  },
  {
   "cell_type": "code",
   "execution_count": 33,
   "metadata": {},
   "outputs": [],
   "source": [
    "## Removing zeros in test set\n",
    "zeros = ['pickup_longitude','pickup_latitude','trip_distance','dropoff_longitude','dropoff_latitude','manhattan','bearing','haversine']\n",
    "for i in zeros:\n",
    "    zero_rows = X_test[X_test.loc[:,i] == 0].loc[:,i].index\n",
    "#     print(i)\n",
    "    X_test.loc[zero_rows, i] = np.mean(X_train[i])\n",
    "X_test.head(10)\n",
    "\n",
    "## Removing distance outliers in test set\n",
    "distances = ['manhattan','haversine']\n",
    "for i in distances:\n",
    "    outliers = X_test[X_test.loc[:,i] > 35].loc[:,i].index\n",
    "    X_test.loc[outliers, i] = np.mean(X_train[i])\n",
    "\n",
    "## Removing price outliers in test set \n",
    "prices = ['fare_amount','mta_tax','tip_amount','tolls_amount','improvement_surcharge','total_amount']\n",
    "for i in distances:\n",
    "    outliers = X_test[X_test.loc[:,i] < 0].loc[:,i].index\n",
    "    outliers2 = X_test[X_test.loc[:,i] > 200].loc[:,i].index\n",
    "    X_test.loc[outliers, i] = np.mean(X_train[i])\n",
    "    X_test.loc[outliers2, i] = np.mean(X_train[i])"
   ]
  },
  {
   "cell_type": "code",
   "execution_count": 34,
   "metadata": {},
   "outputs": [
    {
     "name": "stdout",
     "output_type": "stream",
     "text": [
      "Validation Error:  157.199159396\n",
      "Training Error:  152.107625541\n"
     ]
    }
   ],
   "source": [
    "print(\"Validation Error: \", mae(y_val_pred, y_val))\n",
    "print(\"Training Error: \", mae(y_train_pred, y_train))\n",
    "final_predictions = final_model.predict(X_test)\n",
    "final_predictions = final_predictions.astype(int)\n",
    "for i in np.arange(len(final_predictions)):\n",
    "    if final_predictions[i] < 0:\n",
    "        final_predictions[i] = -1 * final_predictions[i]"
   ]
  },
  {
   "cell_type": "markdown",
   "metadata": {
    "deletable": false,
    "editable": false,
    "nbgrader": {
     "cell_type": "markdown",
     "checksum": "861b71e95b1f972cb10456cf2b12b9ec",
     "grade": false,
     "grade_id": "cell-adae1031103d7053",
     "locked": true,
     "schema_version": 2,
     "solution": false
    }
   },
   "source": [
    "### Question 3\n",
    "The following hidden cells will test your model on the test set. Please do not delete any of them if you want credit!"
   ]
  },
  {
   "cell_type": "code",
   "execution_count": 35,
   "metadata": {
    "deletable": false,
    "editable": false,
    "nbgrader": {
     "cell_type": "code",
     "checksum": "1911acd5120ab37471993a87d23c7db5",
     "grade": true,
     "grade_id": "cell-49787d08aa5b0d72",
     "locked": true,
     "points": 0,
     "schema_version": 2,
     "solution": false
    }
   },
   "outputs": [],
   "source": [
    "# NO TOUCH"
   ]
  },
  {
   "cell_type": "code",
   "execution_count": 36,
   "metadata": {
    "deletable": false,
    "editable": false,
    "nbgrader": {
     "cell_type": "code",
     "checksum": "c5d45274bd4034d9af482544717ec729",
     "grade": true,
     "grade_id": "cell-fd20db43e21281c2",
     "locked": true,
     "points": 1,
     "schema_version": 2,
     "solution": false
    }
   },
   "outputs": [],
   "source": [
    "# NOH"
   ]
  },
  {
   "cell_type": "code",
   "execution_count": 37,
   "metadata": {
    "deletable": false,
    "editable": false,
    "nbgrader": {
     "cell_type": "code",
     "checksum": "ffb5644a5eab9e393947932e6982f0f9",
     "grade": true,
     "grade_id": "cell-dde1980abb5265eb",
     "locked": true,
     "points": 1,
     "schema_version": 2,
     "solution": false
    }
   },
   "outputs": [],
   "source": [
    "# STAHP"
   ]
  },
  {
   "cell_type": "code",
   "execution_count": 38,
   "metadata": {
    "deletable": false,
    "editable": false,
    "nbgrader": {
     "cell_type": "code",
     "checksum": "bc0c573ae7e3228d15bc11f4033a6c9b",
     "grade": true,
     "grade_id": "cell-4720d6f913f2e2a8",
     "locked": true,
     "points": 1,
     "schema_version": 2,
     "solution": false
    }
   },
   "outputs": [],
   "source": [
    "# NO MOLESTE"
   ]
  },
  {
   "cell_type": "code",
   "execution_count": 39,
   "metadata": {
    "deletable": false,
    "editable": false,
    "nbgrader": {
     "cell_type": "code",
     "checksum": "7b13769e4516b387c2385d4052a75d4b",
     "grade": true,
     "grade_id": "cell-becfc4e39f8d613d",
     "locked": true,
     "points": 1,
     "schema_version": 2,
     "solution": false
    }
   },
   "outputs": [],
   "source": [
    "# VA-T'EN"
   ]
  },
  {
   "cell_type": "code",
   "execution_count": 40,
   "metadata": {
    "deletable": false,
    "editable": false,
    "nbgrader": {
     "cell_type": "code",
     "checksum": "6d640bfc58c223abbae088de63df3ecd",
     "grade": true,
     "grade_id": "cell-66c75927b3162384",
     "locked": true,
     "points": 1,
     "schema_version": 2,
     "solution": false
    }
   },
   "outputs": [],
   "source": [
    "# NEIN"
   ]
  },
  {
   "cell_type": "code",
   "execution_count": 41,
   "metadata": {
    "deletable": false,
    "editable": false,
    "nbgrader": {
     "cell_type": "code",
     "checksum": "64954a2f86231a4b4c0d75fcb8d662fd",
     "grade": true,
     "grade_id": "cell-480ee1c73e5aeed2",
     "locked": true,
     "points": 1,
     "schema_version": 2,
     "solution": false
    }
   },
   "outputs": [],
   "source": [
    "# PLSNO"
   ]
  },
  {
   "cell_type": "code",
   "execution_count": 42,
   "metadata": {
    "deletable": false,
    "editable": false,
    "nbgrader": {
     "cell_type": "code",
     "checksum": "651163ce28a1f5235e83f005a03de616",
     "grade": true,
     "grade_id": "cell-5c13060e51df5fbf",
     "locked": true,
     "points": 1,
     "schema_version": 2,
     "solution": false
    }
   },
   "outputs": [],
   "source": [
    "# THIS SPACE IS NOT YOURS"
   ]
  },
  {
   "cell_type": "code",
   "execution_count": 43,
   "metadata": {
    "deletable": false,
    "editable": false,
    "nbgrader": {
     "cell_type": "code",
     "checksum": "29a3b381460853a91d8fe9f220324b71",
     "grade": true,
     "grade_id": "cell-9594161a0c8ada1b",
     "locked": true,
     "points": 1,
     "schema_version": 2,
     "solution": false
    }
   },
   "outputs": [],
   "source": [
    "# TAWDEETAW"
   ]
  },
  {
   "cell_type": "code",
   "execution_count": 44,
   "metadata": {
    "deletable": false,
    "editable": false,
    "nbgrader": {
     "cell_type": "code",
     "checksum": "cc76405d6e229a5c8cce770d2f56aa4a",
     "grade": true,
     "grade_id": "cell-7ff15da448905075",
     "locked": true,
     "points": 1,
     "schema_version": 2,
     "solution": false
    }
   },
   "outputs": [],
   "source": [
    "# MAU LEN"
   ]
  },
  {
   "cell_type": "code",
   "execution_count": 45,
   "metadata": {
    "deletable": false,
    "editable": false,
    "nbgrader": {
     "cell_type": "code",
     "checksum": "9193b6943369510c02fd042f8009e567",
     "grade": true,
     "grade_id": "cell-5799ae0e2e02e4ea",
     "locked": true,
     "points": 1,
     "schema_version": 2,
     "solution": false
    }
   },
   "outputs": [],
   "source": [
    "# ALMOST"
   ]
  },
  {
   "cell_type": "code",
   "execution_count": 46,
   "metadata": {
    "deletable": false,
    "editable": false,
    "nbgrader": {
     "cell_type": "code",
     "checksum": "b71274e2a3a0876812af46e7fadda22a",
     "grade": true,
     "grade_id": "cell-4e8f93c8d961fdc3",
     "locked": true,
     "points": 1,
     "schema_version": 2,
     "solution": false
    }
   },
   "outputs": [],
   "source": [
    "# TO"
   ]
  },
  {
   "cell_type": "code",
   "execution_count": 47,
   "metadata": {
    "deletable": false,
    "editable": false,
    "nbgrader": {
     "cell_type": "code",
     "checksum": "2017f2b6d777ef593da976d61ccfa819",
     "grade": true,
     "grade_id": "cell-cb843d9e9defdb3f",
     "locked": true,
     "points": 1,
     "schema_version": 2,
     "solution": false
    }
   },
   "outputs": [],
   "source": [
    "# THE"
   ]
  },
  {
   "cell_type": "code",
   "execution_count": 48,
   "metadata": {
    "deletable": false,
    "editable": false,
    "nbgrader": {
     "cell_type": "code",
     "checksum": "f4cd698d64eab1bfb873811b9d7cf3ea",
     "grade": true,
     "grade_id": "cell-a83a8dbeab2377b8",
     "locked": true,
     "points": 1,
     "schema_version": 2,
     "solution": false
    }
   },
   "outputs": [],
   "source": [
    "# END"
   ]
  },
  {
   "cell_type": "code",
   "execution_count": 49,
   "metadata": {
    "deletable": false,
    "editable": false,
    "nbgrader": {
     "cell_type": "code",
     "checksum": "f1df2786662d79bb122a671d432f6287",
     "grade": true,
     "grade_id": "cell-c11ba085e96a4d43",
     "locked": true,
     "points": 1,
     "schema_version": 2,
     "solution": false
    }
   },
   "outputs": [],
   "source": [
    "# Hmph"
   ]
  },
  {
   "cell_type": "code",
   "execution_count": 50,
   "metadata": {
    "deletable": false,
    "editable": false,
    "nbgrader": {
     "cell_type": "code",
     "checksum": "9dcf92d155de3c51788e9f94c9b684d2",
     "grade": true,
     "grade_id": "cell-d83490b23ffd0d29",
     "locked": true,
     "points": 1,
     "schema_version": 2,
     "solution": false
    }
   },
   "outputs": [],
   "source": [
    "# Good riddance"
   ]
  },
  {
   "cell_type": "code",
   "execution_count": 51,
   "metadata": {
    "deletable": false,
    "editable": false,
    "nbgrader": {
     "cell_type": "code",
     "checksum": "cb9bd7842363ea079393c77707824a6c",
     "grade": false,
     "grade_id": "cell-c37f9560ddca0dd2",
     "locked": true,
     "schema_version": 2,
     "solution": false
    }
   },
   "outputs": [
    {
     "name": "stdout",
     "output_type": "stream",
     "text": [
      "Created a CSV file: submission_2018-12-06T05:08:40.csv\n",
      "You may now upload this CSV file to Kaggle for scoring.\n"
     ]
    }
   ],
   "source": [
    "generate_submission(test_df, submission_predictions, True)"
   ]
  },
  {
   "cell_type": "markdown",
   "metadata": {
    "deletable": false,
    "editable": false,
    "nbgrader": {
     "cell_type": "markdown",
     "checksum": "7bb9c8347d379dfe40c3951647be36ce",
     "grade": false,
     "grade_id": "cell-ac585a9fd1711d23",
     "locked": true,
     "schema_version": 2,
     "solution": false
    }
   },
   "source": [
    "This should be the format of your CSV file.  \n",
    "Unix-users can verify it running `!head submission_{datetime}.csv` in a jupyter notebook cell.\n",
    "![sample_submission_format](figs/sample_submission_format.png)"
   ]
  },
  {
   "cell_type": "markdown",
   "metadata": {
    "deletable": false,
    "editable": false,
    "nbgrader": {
     "cell_type": "markdown",
     "checksum": "ac53667491c5aca21fd2226a4039dffc",
     "grade": false,
     "grade_id": "cell-0f5d963bfa6acfdf",
     "locked": true,
     "schema_version": 2,
     "solution": false
    }
   },
   "source": [
    "Kaggle link: https://www.kaggle.com/t/f8b3c6acc3a045cab152060a5bc79670"
   ]
  },
  {
   "cell_type": "markdown",
   "metadata": {},
   "source": [
    "## Submission\n",
    "\n",
    "You're almost done!\n",
    "\n",
    "Before submitting this assignment, ensure that you have:\n",
    "\n",
    "1. Restarted the Kernel (in the menubar, select Kernel$\\rightarrow$Restart & Run All)\n",
    "2. Validated the notebook by clicking the \"Validate\" button.\n",
    "\n",
    "Then,\n",
    "\n",
    "1. **Submit** the assignment via the Assignments tab in **Datahub** \n",
    "1. **Upload and tag** the manually reviewed portions of the assignment on **Gradescope**"
   ]
  },
  {
   "cell_type": "code",
   "execution_count": null,
   "metadata": {},
   "outputs": [],
   "source": []
  }
 ],
 "metadata": {
  "kernelspec": {
   "display_name": "Python 3",
   "language": "python",
   "name": "python3"
  },
  "language_info": {
   "codemirror_mode": {
    "name": "ipython",
    "version": 3
   },
   "file_extension": ".py",
   "mimetype": "text/x-python",
   "name": "python",
   "nbconvert_exporter": "python",
   "pygments_lexer": "ipython3",
   "version": "3.6.4"
  }
 },
 "nbformat": 4,
 "nbformat_minor": 2
}
